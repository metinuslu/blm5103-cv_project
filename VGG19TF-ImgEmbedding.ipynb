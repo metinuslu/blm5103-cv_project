{
 "cells": [
  {
   "cell_type": "code",
   "execution_count": 1,
   "id": "ae732ac3-bb0c-4488-a89b-279eddbb8a1c",
   "metadata": {},
   "outputs": [
    {
     "name": "stdout",
     "output_type": "stream",
     "text": [
      "WARNING:tensorflow:From C:\\Users\\metin\\miniconda3\\envs\\cv_env\\Lib\\site-packages\\keras\\src\\losses.py:2976: The name tf.losses.sparse_softmax_cross_entropy is deprecated. Please use tf.compat.v1.losses.sparse_softmax_cross_entropy instead.\n",
      "\n"
     ]
    }
   ],
   "source": [
    "# Install & Import Libraries\n",
    "import os\n",
    "from datetime import datetime\n",
    "import warnings\n",
    "\n",
    "import pandas as pd\n",
    "import numpy as np\n",
    "\n",
    "import tensorflow as tf\n",
    "from tensorflow.keras import layers, models, optimizers\n",
    "from sklearn.model_selection import train_test_split\n",
    "from sklearn.preprocessing import LabelEncoder\n",
    "\n",
    "from sklearn.metrics import accuracy_score, precision_score, recall_score, f1_score\n",
    "from sklearn.metrics import confusion_matrix, ConfusionMatrixDisplay\n",
    "\n",
    "import matplotlib.pyplot as plt"
   ]
  },
  {
   "cell_type": "code",
   "execution_count": 2,
   "id": "7beb7ef3-7548-4478-97c4-1f71b0f4763b",
   "metadata": {},
   "outputs": [],
   "source": [
    "# Set Path Configs\n",
    "ROOT_PATH = os.getcwd()\n",
    "DATA_PATH = os.path.join(ROOT_PATH, 'data')\n",
    "IMAGE_DATA_PATH = os.path.join(DATA_PATH, 'images')\n",
    "RAW_DATA_PATH = os.path.join(DATA_PATH, 'input')\n",
    "PROCESSED_DATA_PATH = os.path.join(DATA_PATH, 'processed')\n",
    "RESULT_DATA_PATH = os.path.join(DATA_PATH, 'result')"
   ]
  },
  {
   "cell_type": "code",
   "execution_count": 3,
   "id": "eb28bade-3899-472f-a09e-9dcfc47be663",
   "metadata": {},
   "outputs": [],
   "source": [
    "df_img_emb_data = pd.read_csv(os.path.join(RESULT_DATA_PATH, \"ImgEmbeddingwithInception-v3.csv.gz\"))\n",
    "df_img_emb_data\n",
    "\n",
    "drop_columns = ['ImgId', 'ImgName', 'Title', 'Genre2', 'Genre3', 'IMDBScore', 'ImdbLink', 'Poster',]\n",
    "df_model_data = df_img_emb_data.drop(labels=drop_columns, axis=1)\n",
    "df_model_data\n",
    "\n",
    "# X, y = df_model_data.iloc[: , 1:], df_model_data['Genre1']\n",
    "X = df_model_data.iloc[: , 1:].values\n",
    "y = df_model_data['Genre1']\n",
    "\n",
    "# X\n",
    "# y"
   ]
  },
  {
   "cell_type": "code",
   "execution_count": 4,
   "id": "194b3340-db51-4387-9cf3-b5ce0eab2f5f",
   "metadata": {},
   "outputs": [
    {
     "data": {
      "text/plain": [
       "Genre1\n",
       "Drama        357\n",
       "Comedy       317\n",
       "Crime         84\n",
       "Adventure     53\n",
       "Name: count, dtype: int64"
      ]
     },
     "execution_count": 4,
     "metadata": {},
     "output_type": "execute_result"
    }
   ],
   "source": [
    "df_model_data['Genre1'].value_counts()"
   ]
  },
  {
   "cell_type": "code",
   "execution_count": 5,
   "id": "f74d9156-69bf-411e-932c-a17876678514",
   "metadata": {},
   "outputs": [],
   "source": [
    "image_matrices = X.reshape(-1, 32, 64)\n",
    "# image_matrices"
   ]
  },
  {
   "cell_type": "code",
   "execution_count": 6,
   "id": "cc9d0dea-e3f4-4608-8ce4-e52944453c34",
   "metadata": {},
   "outputs": [
    {
     "data": {
      "text/plain": [
       "(2, (811, 2048), 3, (811, 32, 64))"
      ]
     },
     "execution_count": 6,
     "metadata": {},
     "output_type": "execute_result"
    }
   ],
   "source": [
    "X.ndim, X.shape, image_matrices.ndim, image_matrices.shape"
   ]
  },
  {
   "cell_type": "code",
   "execution_count": 7,
   "id": "75b11a30-7e2b-4cdc-859a-5fe75b26f743",
   "metadata": {},
   "outputs": [],
   "source": [
    "# Veriyi eğitim ve test setlerine ayırma\n",
    "X_train, X_test, y_train, y_test = train_test_split(image_matrices, y, test_size=0.2, random_state=42)"
   ]
  },
  {
   "cell_type": "code",
   "execution_count": 8,
   "id": "54508b7f-f9c3-4ef1-956d-61079161922a",
   "metadata": {},
   "outputs": [],
   "source": [
    "# Etiketleri sayısal forma dönüştürme\n",
    "label_encoder = LabelEncoder()\n",
    "y_train_encoded = label_encoder.fit_transform(y_train)\n",
    "y_test_encoded = label_encoder.transform(y_test)"
   ]
  },
  {
   "cell_type": "code",
   "execution_count": 9,
   "id": "781479be-1d1a-44b8-9fbf-b891cc48cc87",
   "metadata": {},
   "outputs": [
    {
     "name": "stdout",
     "output_type": "stream",
     "text": [
      "WARNING:tensorflow:From C:\\Users\\metin\\miniconda3\\envs\\cv_env\\Lib\\site-packages\\keras\\src\\backend.py:1398: The name tf.executing_eagerly_outside_functions is deprecated. Please use tf.compat.v1.executing_eagerly_outside_functions instead.\n",
      "\n",
      "WARNING:tensorflow:From C:\\Users\\metin\\miniconda3\\envs\\cv_env\\Lib\\site-packages\\keras\\src\\layers\\pooling\\max_pooling2d.py:161: The name tf.nn.max_pool is deprecated. Please use tf.nn.max_pool2d instead.\n",
      "\n",
      "WARNING:tensorflow:From C:\\Users\\metin\\miniconda3\\envs\\cv_env\\Lib\\site-packages\\keras\\src\\optimizers\\__init__.py:309: The name tf.train.Optimizer is deprecated. Please use tf.compat.v1.train.Optimizer instead.\n",
      "\n"
     ]
    }
   ],
   "source": [
    "# Transfer learning modeli\n",
    "base_model = tf.keras.applications.VGG16(\n",
    "    include_top=False,\n",
    "    weights='imagenet',\n",
    "    input_shape=(32, 64, 3)  # Renkli görüntü olduğu için kanalları 3\n",
    ")\n",
    "base_model.trainable = False  # Modeli dondur\n",
    "\n",
    "# Özel sınıflandırıcı katmanlar\n",
    "model = models.Sequential([\n",
    "    base_model,\n",
    "    layers.Flatten(),\n",
    "    layers.Dense(512, activation='relu'),\n",
    "    layers.Dropout(0.5),\n",
    "    layers.Dense(4, activation='softmax')  # 4 sınıf var (A, B, C, D)\n",
    "])\n",
    "\n",
    "model.compile(optimizer='adam', loss='sparse_categorical_crossentropy', metrics=['accuracy'])"
   ]
  },
  {
   "cell_type": "code",
   "execution_count": 10,
   "id": "569f9ba5-0c1a-40c4-9b20-7f7234a62a9c",
   "metadata": {},
   "outputs": [],
   "source": [
    "# Modeli eğit\n",
    "# model.fit(X_train, y_train_encoded, epochs=10, batch_size=32, validation_data=(X_test, y_test_encoded))"
   ]
  },
  {
   "cell_type": "code",
   "execution_count": 11,
   "id": "5e11db96-d4e1-4cfd-8009-a8392f486571",
   "metadata": {},
   "outputs": [
    {
     "name": "stdout",
     "output_type": "stream",
     "text": [
      "Epoch 1/25\n",
      "WARNING:tensorflow:From C:\\Users\\metin\\miniconda3\\envs\\cv_env\\Lib\\site-packages\\keras\\src\\utils\\tf_utils.py:492: The name tf.ragged.RaggedTensorValue is deprecated. Please use tf.compat.v1.ragged.RaggedTensorValue instead.\n",
      "\n",
      "WARNING:tensorflow:From C:\\Users\\metin\\miniconda3\\envs\\cv_env\\Lib\\site-packages\\keras\\src\\engine\\base_layer_utils.py:384: The name tf.executing_eagerly_outside_functions is deprecated. Please use tf.compat.v1.executing_eagerly_outside_functions instead.\n",
      "\n",
      "21/21 [==============================] - 5s 208ms/step - loss: 1.3639 - accuracy: 0.4074 - val_loss: 1.1134 - val_accuracy: 0.4601\n",
      "Epoch 2/25\n",
      "21/21 [==============================] - 4s 197ms/step - loss: 1.2292 - accuracy: 0.4228 - val_loss: 1.1090 - val_accuracy: 0.4601\n",
      "Epoch 3/25\n",
      "21/21 [==============================] - 4s 196ms/step - loss: 1.1893 - accuracy: 0.4244 - val_loss: 1.1202 - val_accuracy: 0.4110\n",
      "Epoch 4/25\n",
      "21/21 [==============================] - 4s 205ms/step - loss: 1.1627 - accuracy: 0.4491 - val_loss: 1.1011 - val_accuracy: 0.4601\n",
      "Epoch 5/25\n",
      "21/21 [==============================] - 4s 200ms/step - loss: 1.1704 - accuracy: 0.4306 - val_loss: 1.0841 - val_accuracy: 0.4663\n",
      "Epoch 6/25\n",
      "21/21 [==============================] - 4s 194ms/step - loss: 1.1524 - accuracy: 0.4537 - val_loss: 1.0917 - val_accuracy: 0.4724\n",
      "Epoch 7/25\n",
      "21/21 [==============================] - 4s 198ms/step - loss: 1.1576 - accuracy: 0.4414 - val_loss: 1.0862 - val_accuracy: 0.4663\n",
      "Epoch 8/25\n",
      "21/21 [==============================] - 4s 198ms/step - loss: 1.1564 - accuracy: 0.4306 - val_loss: 1.0861 - val_accuracy: 0.4724\n",
      "Epoch 9/25\n",
      "21/21 [==============================] - 4s 195ms/step - loss: 1.1329 - accuracy: 0.4599 - val_loss: 1.0846 - val_accuracy: 0.4601\n",
      "Epoch 10/25\n",
      "21/21 [==============================] - 4s 198ms/step - loss: 1.1756 - accuracy: 0.4290 - val_loss: 1.0986 - val_accuracy: 0.4785\n",
      "Epoch 11/25\n",
      "21/21 [==============================] - 4s 198ms/step - loss: 1.1515 - accuracy: 0.4475 - val_loss: 1.0958 - val_accuracy: 0.4172\n",
      "Epoch 12/25\n",
      "21/21 [==============================] - 4s 200ms/step - loss: 1.1304 - accuracy: 0.4645 - val_loss: 1.0993 - val_accuracy: 0.5031\n",
      "Epoch 13/25\n",
      "21/21 [==============================] - 4s 196ms/step - loss: 1.1507 - accuracy: 0.4290 - val_loss: 1.0953 - val_accuracy: 0.4724\n",
      "Epoch 14/25\n",
      "21/21 [==============================] - 4s 197ms/step - loss: 1.1498 - accuracy: 0.4213 - val_loss: 1.0911 - val_accuracy: 0.4540\n",
      "Epoch 15/25\n",
      "21/21 [==============================] - 4s 198ms/step - loss: 1.1291 - accuracy: 0.4676 - val_loss: 1.0918 - val_accuracy: 0.4601\n",
      "Epoch 16/25\n",
      "21/21 [==============================] - 4s 197ms/step - loss: 1.1478 - accuracy: 0.4182 - val_loss: 1.0939 - val_accuracy: 0.4663\n",
      "Epoch 17/25\n",
      "21/21 [==============================] - 4s 204ms/step - loss: 1.1279 - accuracy: 0.4522 - val_loss: 1.0967 - val_accuracy: 0.4479\n",
      "Epoch 18/25\n",
      "21/21 [==============================] - 4s 199ms/step - loss: 1.1330 - accuracy: 0.4352 - val_loss: 1.0922 - val_accuracy: 0.5092\n",
      "Epoch 19/25\n",
      "21/21 [==============================] - 4s 205ms/step - loss: 1.1342 - accuracy: 0.4599 - val_loss: 1.0981 - val_accuracy: 0.4540\n",
      "Epoch 20/25\n",
      "21/21 [==============================] - 4s 202ms/step - loss: 1.1357 - accuracy: 0.4738 - val_loss: 1.0945 - val_accuracy: 0.4601\n",
      "Epoch 21/25\n",
      "21/21 [==============================] - 4s 209ms/step - loss: 1.1287 - accuracy: 0.4614 - val_loss: 1.0975 - val_accuracy: 0.4908\n",
      "Epoch 22/25\n",
      "21/21 [==============================] - 4s 214ms/step - loss: 1.1331 - accuracy: 0.4583 - val_loss: 1.1115 - val_accuracy: 0.4110\n",
      "Epoch 23/25\n",
      "21/21 [==============================] - 5s 224ms/step - loss: 1.1158 - accuracy: 0.4506 - val_loss: 1.0899 - val_accuracy: 0.4663\n",
      "Epoch 24/25\n",
      "21/21 [==============================] - 4s 212ms/step - loss: 1.1157 - accuracy: 0.4660 - val_loss: 1.1037 - val_accuracy: 0.4601\n",
      "Epoch 25/25\n",
      "21/21 [==============================] - 4s 199ms/step - loss: 1.1368 - accuracy: 0.4491 - val_loss: 1.0898 - val_accuracy: 0.5215\n"
     ]
    },
    {
     "data": {
      "text/plain": [
       "<keras.src.callbacks.History at 0x260b810b2d0>"
      ]
     },
     "execution_count": 11,
     "metadata": {},
     "output_type": "execute_result"
    }
   ],
   "source": [
    "# Girdi verilerinize bir kanal boyutu ekleyin\n",
    "X_train_expanded = np.expand_dims(X_train, -1)\n",
    "X_test_expanded = np.expand_dims(X_test, -1)\n",
    "\n",
    "# Girdi verilerini 3 kanallıymış gibi genişletin\n",
    "X_train_expanded = np.repeat(X_train_expanded, 3, axis=-1)\n",
    "X_test_expanded = np.repeat(X_test_expanded, 3, axis=-1)\n",
    "\n",
    "# Modeli genişletilmiş veri ile eğitin\n",
    "model.fit(X_train_expanded, y_train_encoded, epochs=25, batch_size=32, validation_data=(X_test_expanded, y_test_encoded))"
   ]
  },
  {
   "cell_type": "code",
   "execution_count": 12,
   "id": "0c65e10b-e92d-4eca-9cd3-0c56930eb9ef",
   "metadata": {},
   "outputs": [
    {
     "name": "stdout",
     "output_type": "stream",
     "text": [
      "6/6 [==============================] - 1s 189ms/step\n",
      "Doğruluk: 0.5214723926380368\n"
     ]
    }
   ],
   "source": [
    "y_pred = model.predict(X_test_expanded)\n",
    "y_pred_classes = np.argmax(y_pred, axis=1)\n",
    "accuracy = accuracy_score(y_test_encoded, y_pred_classes)\n",
    "print(f'Doğruluk: {accuracy}')"
   ]
  },
  {
   "cell_type": "code",
   "execution_count": 13,
   "id": "1572bcad-931e-4b76-91b8-7d600ee6bfde",
   "metadata": {},
   "outputs": [
    {
     "data": {
      "image/png": "[encoded data removed]",
      "text/plain": [
       "<Figure size 640x480 with 2 Axes>"
      ]
     },
     "metadata": {},
     "output_type": "display_data"
    }
   ],
   "source": [
    "cm = confusion_matrix(y_test_encoded, y_pred_classes)\n",
    "disp = ConfusionMatrixDisplay(confusion_matrix=cm, display_labels=label_encoder.classes_)\n",
    "disp.plot()\n",
    "plt.show()"
   ]
  },
  {
   "cell_type": "code",
   "execution_count": 14,
   "id": "a55b092b-14ae-4dc7-8520-6f4628bf5e50",
   "metadata": {},
   "outputs": [
    {
     "name": "stdout",
     "output_type": "stream",
     "text": [
      "Hassasiyet: 0.4447852760736196\n",
      "Duyarlılık: 0.5214723926380368\n",
      "F1-Skoru: 0.47433787221307794\n"
     ]
    },
    {
     "name": "stderr",
     "output_type": "stream",
     "text": [
      "C:\\Users\\metin\\miniconda3\\envs\\cv_env\\Lib\\site-packages\\sklearn\\metrics\\_classification.py:1471: UndefinedMetricWarning: Precision is ill-defined and being set to 0.0 in labels with no predicted samples. Use `zero_division` parameter to control this behavior.\n",
      "  _warn_prf(average, modifier, msg_start, len(result))\n"
     ]
    }
   ],
   "source": [
    "precision = precision_score(y_test_encoded, y_pred_classes, average='weighted')\n",
    "recall = recall_score(y_test_encoded, y_pred_classes, average='weighted')\n",
    "f1 = f1_score(y_test_encoded, y_pred_classes, average='weighted')\n",
    "\n",
    "print(f'Hassasiyet: {precision}')\n",
    "print(f'Duyarlılık: {recall}')\n",
    "print(f'F1-Skoru: {f1}')"
   ]
  },
  {
   "cell_type": "code",
   "execution_count": null,
   "id": "40e742e5-af55-469b-84e8-dd4cecf60d3d",
   "metadata": {},
   "outputs": [],
   "source": []
  }
 ],
 "metadata": {
  "kernelspec": {
   "display_name": "Python 3 (ipykernel)",
   "language": "python",
   "name": "python3"
  },
  "language_info": {
   "codemirror_mode": {
    "name": "ipython",
    "version": 3
   },
   "file_extension": ".py",
   "mimetype": "text/x-python",
   "name": "python",
   "nbconvert_exporter": "python",
   "pygments_lexer": "ipython3",
   "version": "3.11.5"
  }
 },
 "nbformat": 4,
 "nbformat_minor": 5
}
