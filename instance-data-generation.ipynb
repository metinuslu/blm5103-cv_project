{
 "cells": [
  {
   "cell_type": "code",
   "execution_count": 1,
   "id": "f6d02c5f",
   "metadata": {
    "_cell_guid": "b1076dfc-b9ad-4769-8c92-a6c4dae69d19",
    "_uuid": "8f2839f25d086af736a60e9eeb907d3b93b6e0e5",
    "execution": {
     "iopub.execute_input": "2023-12-29T14:52:03.943997Z",
     "iopub.status.busy": "2023-12-29T14:52:03.943549Z",
     "iopub.status.idle": "2023-12-29T14:52:04.376833Z",
     "shell.execute_reply": "2023-12-29T14:52:04.375552Z"
    },
    "papermill": {
     "duration": 0.442259,
     "end_time": "2023-12-29T14:52:04.380251",
     "exception": false,
     "start_time": "2023-12-29T14:52:03.937992",
     "status": "completed"
    },
    "tags": []
   },
   "outputs": [],
   "source": [
    "# This Python 3 environment comes with many helpful analytics libraries installed\n",
    "# It is defined by the kaggle/python Docker image: https://github.com/kaggle/docker-python\n",
    "# For example, here's several helpful packages to load\n",
    "\n",
    "import numpy as np # linear algebra\n",
    "import pandas as pd # data processing, CSV file I/O (e.g. pd.read_csv)\n",
    "\n",
    "# Input data files are available in the read-only \"../input/\" directory\n",
    "# For example, running this (by clicking run or pressing Shift+Enter) will list all files under the input directory\n",
    "\n",
    "import os\n",
    "for dirname, _, filenames in os.walk('/kaggle/input'):\n",
    "    for filename in filenames:\n",
    "        print(os.path.join(dirname, filename))\n",
    "\n",
    "# You can write up to 20GB to the current directory (/kaggle/working/) that gets preserved as output when you create a version using \"Save & Run All\" \n",
    "# You can also write temporary files to /kaggle/temp/, but they won't be saved outside of the current session"
   ]
  },
  {
   "cell_type": "code",
   "execution_count": 2,
   "id": "aeb0f34d",
   "metadata": {
    "execution": {
     "iopub.execute_input": "2023-12-29T14:52:04.387797Z",
     "iopub.status.busy": "2023-12-29T14:52:04.387271Z",
     "iopub.status.idle": "2023-12-29T14:52:06.274212Z",
     "shell.execute_reply": "2023-12-29T14:52:06.272379Z"
    },
    "papermill": {
     "duration": 1.89438,
     "end_time": "2023-12-29T14:52:06.277690",
     "exception": false,
     "start_time": "2023-12-29T14:52:04.383310",
     "status": "completed"
    },
    "tags": []
   },
   "outputs": [],
   "source": [
    "# define the possible values for genre\n",
    "genres = [\"action\", \"comedy\", \"drama\", \"horror\", \"romance\"]\n",
    "\n",
    "# generate 1000 random ids\n",
    "ids = np.arange(1, 1001)\n",
    "# generate 1000 random filenames\n",
    "filenames = np.array([f\"file_{id}.txt\" for id in ids])\n",
    "# generate a 1000 x 1024 array of random numbers between 0 and 255\n",
    "x = np.random.randint(0, 256, size=(1000, 1024))\n",
    "# choose 1000 random genres from the list\n",
    "genres = np.random.choice(genres, size=1000)\n",
    "\n",
    "# create a dataframe from the arrays\n",
    "df = pd.DataFrame(np.column_stack([ids, filenames, x, genres]))\n",
    "# rename the columns\n",
    "df.columns = [\"id\", \"filename\"] + [f\"x{i}\" for i in range(1, 1025)] + [\"genre\"]\n",
    "\n",
    "# write the dataframe to a csv file\n",
    "df.to_csv(\"records.csv\", index=False)"
   ]
  },
  {
   "cell_type": "code",
   "execution_count": null,
   "id": "e8a83d66",
   "metadata": {
    "papermill": {
     "duration": 0.002135,
     "end_time": "2023-12-29T14:52:06.282556",
     "exception": false,
     "start_time": "2023-12-29T14:52:06.280421",
     "status": "completed"
    },
    "tags": []
   },
   "outputs": [],
   "source": []
  }
 ],
 "metadata": {
  "kaggle": {
   "accelerator": "none",
   "dataSources": [],
   "dockerImageVersionId": 30626,
   "isGpuEnabled": false,
   "isInternetEnabled": true,
   "language": "python",
   "sourceType": "notebook"
  },
  "kernelspec": {
   "display_name": "Python 3",
   "language": "python",
   "name": "python3"
  },
  "language_info": {
   "codemirror_mode": {
    "name": "ipython",
    "version": 3
   },
   "file_extension": ".py",
   "mimetype": "text/x-python",
   "name": "python",
   "nbconvert_exporter": "python",
   "pygments_lexer": "ipython3",
   "version": "3.10.12"
  },
  "papermill": {
   "default_parameters": {},
   "duration": 6.467806,
   "end_time": "2023-12-29T14:52:06.809553",
   "environment_variables": {},
   "exception": null,
   "input_path": "__notebook__.ipynb",
   "output_path": "__notebook__.ipynb",
   "parameters": {},
   "start_time": "2023-12-29T14:52:00.341747",
   "version": "2.4.0"
  }
 },
 "nbformat": 4,
 "nbformat_minor": 5
}
