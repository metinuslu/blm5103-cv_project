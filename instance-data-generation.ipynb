{
 "cells": [
  {
   "cell_type": "code",
   "execution_count": 1,
   "id": "23569be3",
   "metadata": {
    "_cell_guid": "b1076dfc-b9ad-4769-8c92-a6c4dae69d19",
    "_uuid": "8f2839f25d086af736a60e9eeb907d3b93b6e0e5",
    "execution": {
     "iopub.execute_input": "2023-12-29T15:34:01.505808Z",
     "iopub.status.busy": "2023-12-29T15:34:01.503817Z",
     "iopub.status.idle": "2023-12-29T15:34:02.118066Z",
     "shell.execute_reply": "2023-12-29T15:34:02.115789Z"
    },
    "papermill": {
     "duration": 0.628219,
     "end_time": "2023-12-29T15:34:02.122310",
     "exception": false,
     "start_time": "2023-12-29T15:34:01.494091",
     "status": "completed"
    },
    "tags": []
   },
   "outputs": [],
   "source": [
    "# This Python 3 environment comes with many helpful analytics libraries installed\n",
    "# It is defined by the kaggle/python Docker image: https://github.com/kaggle/docker-python\n",
    "# For example, here's several helpful packages to load\n",
    "\n",
    "import numpy as np # linear algebra\n",
    "import pandas as pd # data processing, CSV file I/O (e.g. pd.read_csv)\n",
    "\n",
    "# Input data files are available in the read-only \"../input/\" directory\n",
    "# For example, running this (by clicking run or pressing Shift+Enter) will list all files under the input directory\n",
    "\n",
    "import os\n",
    "for dirname, _, filenames in os.walk('/kaggle/input'):\n",
    "    for filename in filenames:\n",
    "        print(os.path.join(dirname, filename))\n",
    "\n",
    "# You can write up to 20GB to the current directory (/kaggle/working/) that gets preserved as output when you create a version using \"Save & Run All\" \n",
    "# You can also write temporary files to /kaggle/temp/, but they won't be saved outside of the current session"
   ]
  },
  {
   "cell_type": "code",
   "execution_count": 2,
   "id": "bb355000",
   "metadata": {
    "execution": {
     "iopub.execute_input": "2023-12-29T15:34:02.138722Z",
     "iopub.status.busy": "2023-12-29T15:34:02.137348Z",
     "iopub.status.idle": "2023-12-29T15:34:04.310980Z",
     "shell.execute_reply": "2023-12-29T15:34:04.309413Z"
    },
    "papermill": {
     "duration": 2.186923,
     "end_time": "2023-12-29T15:34:04.315848",
     "exception": false,
     "start_time": "2023-12-29T15:34:02.128925",
     "status": "completed"
    },
    "tags": []
   },
   "outputs": [],
   "source": [
    "# define the possible values for genre\n",
    "genres = [\"action\", \"comedy\", \"drama\", \"horror\", \"romance\"]\n",
    "\n",
    "# generate 1000 random ids\n",
    "ids = np.arange(1, 1001)\n",
    "# generate 1000 random filenames\n",
    "filenames = np.array([f\"file_{id}.txt\" for id in ids])\n",
    "# generate a 1000 x 1024 array of random numbers between 0 and 255\n",
    "x = np.random.randint(0, 256, size=(1000, 1024))\n",
    "# choose 1000 random genres from the list\n",
    "genres = np.random.choice(genres, size=1000)\n",
    "\n",
    "# create a dataframe from the arrays\n",
    "df = pd.DataFrame(np.column_stack([ids, filenames, x, genres]))\n",
    "# rename the columns\n",
    "df.columns = [\"id\", \"filename\"] + [f\"x{i}\" for i in range(1, 1025)] + [\"genre\"]\n",
    "\n",
    "# write the dataframe to a csv file\n",
    "df.to_csv(\"records.csv\", index=False)"
   ]
  },
  {
   "cell_type": "code",
   "execution_count": 3,
   "id": "81cfc025",
   "metadata": {
    "execution": {
     "iopub.execute_input": "2023-12-29T15:34:04.334238Z",
     "iopub.status.busy": "2023-12-29T15:34:04.333715Z",
     "iopub.status.idle": "2023-12-29T15:34:04.654926Z",
     "shell.execute_reply": "2023-12-29T15:34:04.651626Z"
    },
    "papermill": {
     "duration": 0.339014,
     "end_time": "2023-12-29T15:34:04.661421",
     "exception": false,
     "start_time": "2023-12-29T15:34:04.322407",
     "status": "completed"
    },
    "tags": []
   },
   "outputs": [],
   "source": [
    "df = pd.read_csv(\"/kaggle/working/records.csv\")"
   ]
  },
  {
   "cell_type": "code",
   "execution_count": 4,
   "id": "c28aa9c7",
   "metadata": {
    "execution": {
     "iopub.execute_input": "2023-12-29T15:34:04.681404Z",
     "iopub.status.busy": "2023-12-29T15:34:04.680859Z",
     "iopub.status.idle": "2023-12-29T15:34:04.734816Z",
     "shell.execute_reply": "2023-12-29T15:34:04.733003Z"
    },
    "papermill": {
     "duration": 0.069453,
     "end_time": "2023-12-29T15:34:04.739643",
     "exception": false,
     "start_time": "2023-12-29T15:34:04.670190",
     "status": "completed"
    },
    "tags": []
   },
   "outputs": [
    {
     "data": {
      "text/html": [
       "<div>\n",
       "<style scoped>\n",
       "    .dataframe tbody tr th:only-of-type {\n",
       "        vertical-align: middle;\n",
       "    }\n",
       "\n",
       "    .dataframe tbody tr th {\n",
       "        vertical-align: top;\n",
       "    }\n",
       "\n",
       "    .dataframe thead th {\n",
       "        text-align: right;\n",
       "    }\n",
       "</style>\n",
       "<table border=\"1\" class=\"dataframe\">\n",
       "  <thead>\n",
       "    <tr style=\"text-align: right;\">\n",
       "      <th></th>\n",
       "      <th>id</th>\n",
       "      <th>filename</th>\n",
       "      <th>x1</th>\n",
       "      <th>x2</th>\n",
       "      <th>x3</th>\n",
       "      <th>x4</th>\n",
       "      <th>x5</th>\n",
       "      <th>x6</th>\n",
       "      <th>x7</th>\n",
       "      <th>x8</th>\n",
       "      <th>...</th>\n",
       "      <th>x1016</th>\n",
       "      <th>x1017</th>\n",
       "      <th>x1018</th>\n",
       "      <th>x1019</th>\n",
       "      <th>x1020</th>\n",
       "      <th>x1021</th>\n",
       "      <th>x1022</th>\n",
       "      <th>x1023</th>\n",
       "      <th>x1024</th>\n",
       "      <th>genre</th>\n",
       "    </tr>\n",
       "  </thead>\n",
       "  <tbody>\n",
       "    <tr>\n",
       "      <th>0</th>\n",
       "      <td>1</td>\n",
       "      <td>file_1.txt</td>\n",
       "      <td>35</td>\n",
       "      <td>214</td>\n",
       "      <td>141</td>\n",
       "      <td>240</td>\n",
       "      <td>205</td>\n",
       "      <td>149</td>\n",
       "      <td>253</td>\n",
       "      <td>131</td>\n",
       "      <td>...</td>\n",
       "      <td>31</td>\n",
       "      <td>202</td>\n",
       "      <td>221</td>\n",
       "      <td>234</td>\n",
       "      <td>72</td>\n",
       "      <td>107</td>\n",
       "      <td>128</td>\n",
       "      <td>199</td>\n",
       "      <td>81</td>\n",
       "      <td>romance</td>\n",
       "    </tr>\n",
       "    <tr>\n",
       "      <th>1</th>\n",
       "      <td>2</td>\n",
       "      <td>file_2.txt</td>\n",
       "      <td>185</td>\n",
       "      <td>41</td>\n",
       "      <td>125</td>\n",
       "      <td>231</td>\n",
       "      <td>18</td>\n",
       "      <td>20</td>\n",
       "      <td>157</td>\n",
       "      <td>182</td>\n",
       "      <td>...</td>\n",
       "      <td>84</td>\n",
       "      <td>210</td>\n",
       "      <td>69</td>\n",
       "      <td>213</td>\n",
       "      <td>229</td>\n",
       "      <td>211</td>\n",
       "      <td>78</td>\n",
       "      <td>102</td>\n",
       "      <td>213</td>\n",
       "      <td>action</td>\n",
       "    </tr>\n",
       "    <tr>\n",
       "      <th>2</th>\n",
       "      <td>3</td>\n",
       "      <td>file_3.txt</td>\n",
       "      <td>5</td>\n",
       "      <td>234</td>\n",
       "      <td>163</td>\n",
       "      <td>6</td>\n",
       "      <td>215</td>\n",
       "      <td>175</td>\n",
       "      <td>158</td>\n",
       "      <td>132</td>\n",
       "      <td>...</td>\n",
       "      <td>248</td>\n",
       "      <td>188</td>\n",
       "      <td>226</td>\n",
       "      <td>62</td>\n",
       "      <td>62</td>\n",
       "      <td>84</td>\n",
       "      <td>30</td>\n",
       "      <td>88</td>\n",
       "      <td>12</td>\n",
       "      <td>action</td>\n",
       "    </tr>\n",
       "    <tr>\n",
       "      <th>3</th>\n",
       "      <td>4</td>\n",
       "      <td>file_4.txt</td>\n",
       "      <td>228</td>\n",
       "      <td>37</td>\n",
       "      <td>163</td>\n",
       "      <td>156</td>\n",
       "      <td>158</td>\n",
       "      <td>69</td>\n",
       "      <td>111</td>\n",
       "      <td>11</td>\n",
       "      <td>...</td>\n",
       "      <td>43</td>\n",
       "      <td>62</td>\n",
       "      <td>252</td>\n",
       "      <td>144</td>\n",
       "      <td>53</td>\n",
       "      <td>20</td>\n",
       "      <td>157</td>\n",
       "      <td>31</td>\n",
       "      <td>23</td>\n",
       "      <td>comedy</td>\n",
       "    </tr>\n",
       "    <tr>\n",
       "      <th>4</th>\n",
       "      <td>5</td>\n",
       "      <td>file_5.txt</td>\n",
       "      <td>197</td>\n",
       "      <td>185</td>\n",
       "      <td>167</td>\n",
       "      <td>233</td>\n",
       "      <td>47</td>\n",
       "      <td>115</td>\n",
       "      <td>181</td>\n",
       "      <td>118</td>\n",
       "      <td>...</td>\n",
       "      <td>85</td>\n",
       "      <td>12</td>\n",
       "      <td>241</td>\n",
       "      <td>17</td>\n",
       "      <td>82</td>\n",
       "      <td>77</td>\n",
       "      <td>113</td>\n",
       "      <td>249</td>\n",
       "      <td>206</td>\n",
       "      <td>horror</td>\n",
       "    </tr>\n",
       "  </tbody>\n",
       "</table>\n",
       "<p>5 rows × 1027 columns</p>\n",
       "</div>"
      ],
      "text/plain": [
       "   id    filename   x1   x2   x3   x4   x5   x6   x7   x8  ...  x1016  x1017  \\\n",
       "0   1  file_1.txt   35  214  141  240  205  149  253  131  ...     31    202   \n",
       "1   2  file_2.txt  185   41  125  231   18   20  157  182  ...     84    210   \n",
       "2   3  file_3.txt    5  234  163    6  215  175  158  132  ...    248    188   \n",
       "3   4  file_4.txt  228   37  163  156  158   69  111   11  ...     43     62   \n",
       "4   5  file_5.txt  197  185  167  233   47  115  181  118  ...     85     12   \n",
       "\n",
       "   x1018  x1019  x1020  x1021  x1022  x1023  x1024    genre  \n",
       "0    221    234     72    107    128    199     81  romance  \n",
       "1     69    213    229    211     78    102    213   action  \n",
       "2    226     62     62     84     30     88     12   action  \n",
       "3    252    144     53     20    157     31     23   comedy  \n",
       "4    241     17     82     77    113    249    206   horror  \n",
       "\n",
       "[5 rows x 1027 columns]"
      ]
     },
     "execution_count": 4,
     "metadata": {},
     "output_type": "execute_result"
    }
   ],
   "source": [
    "df.head()"
   ]
  },
  {
   "cell_type": "code",
   "execution_count": 5,
   "id": "8ebfea5b",
   "metadata": {
    "execution": {
     "iopub.execute_input": "2023-12-29T15:34:04.762612Z",
     "iopub.status.busy": "2023-12-29T15:34:04.761896Z",
     "iopub.status.idle": "2023-12-29T15:34:10.601953Z",
     "shell.execute_reply": "2023-12-29T15:34:10.600646Z"
    },
    "papermill": {
     "duration": 5.854684,
     "end_time": "2023-12-29T15:34:10.605291",
     "exception": false,
     "start_time": "2023-12-29T15:34:04.750607",
     "status": "completed"
    },
    "tags": []
   },
   "outputs": [],
   "source": [
    "from torchvision import models\n",
    "import torch.nn as nn\n",
    "import torch"
   ]
  },
  {
   "cell_type": "code",
   "execution_count": 6,
   "id": "3e558080",
   "metadata": {
    "execution": {
     "iopub.execute_input": "2023-12-29T15:34:10.620917Z",
     "iopub.status.busy": "2023-12-29T15:34:10.620239Z",
     "iopub.status.idle": "2023-12-29T15:34:12.200752Z",
     "shell.execute_reply": "2023-12-29T15:34:12.198265Z"
    },
    "papermill": {
     "duration": 1.594027,
     "end_time": "2023-12-29T15:34:12.205746",
     "exception": false,
     "start_time": "2023-12-29T15:34:10.611719",
     "status": "completed"
    },
    "tags": []
   },
   "outputs": [
    {
     "name": "stderr",
     "output_type": "stream",
     "text": [
      "/opt/conda/lib/python3.10/site-packages/torchvision/models/_utils.py:208: UserWarning: The parameter 'pretrained' is deprecated since 0.13 and may be removed in the future, please use 'weights' instead.\n",
      "  warnings.warn(\n",
      "/opt/conda/lib/python3.10/site-packages/torchvision/models/_utils.py:223: UserWarning: Arguments other than a weight enum or `None` for 'weights' are deprecated since 0.13 and may be removed in the future. The current behavior is equivalent to passing `weights=ResNet50_Weights.IMAGENET1K_V1`. You can also use `weights=ResNet50_Weights.DEFAULT` to get the most up-to-date weights.\n",
      "  warnings.warn(msg)\n",
      "Downloading: \"https://download.pytorch.org/models/resnet50-0676ba61.pth\" to /root/.cache/torch/hub/checkpoints/resnet50-0676ba61.pth\n",
      "100%|██████████| 97.8M/97.8M [00:00<00:00, 170MB/s]\n"
     ]
    }
   ],
   "source": [
    "# Load the pretrained model\n",
    "model = models.resnet50(pretrained=True)"
   ]
  },
  {
   "cell_type": "code",
   "execution_count": 7,
   "id": "41daf537",
   "metadata": {
    "execution": {
     "iopub.execute_input": "2023-12-29T15:34:12.229883Z",
     "iopub.status.busy": "2023-12-29T15:34:12.229012Z",
     "iopub.status.idle": "2023-12-29T15:34:12.237079Z",
     "shell.execute_reply": "2023-12-29T15:34:12.235244Z"
    },
    "papermill": {
     "duration": 0.026323,
     "end_time": "2023-12-29T15:34:12.241255",
     "exception": false,
     "start_time": "2023-12-29T15:34:12.214932",
     "status": "completed"
    },
    "tags": []
   },
   "outputs": [],
   "source": [
    "# Replace the last layer with a new classifier\n",
    "num_features = model.fc.in_features # get the number of input features for the last layer\n",
    "num_classes = 5 # assuming 5 classes in your dataset\n",
    "model.fc = nn.Linear(num_features, num_classes) # create a new linear layer with 5 outputs"
   ]
  },
  {
   "cell_type": "code",
   "execution_count": 8,
   "id": "ed9420b9",
   "metadata": {
    "execution": {
     "iopub.execute_input": "2023-12-29T15:34:12.260829Z",
     "iopub.status.busy": "2023-12-29T15:34:12.259248Z",
     "iopub.status.idle": "2023-12-29T15:34:12.309992Z",
     "shell.execute_reply": "2023-12-29T15:34:12.308310Z"
    },
    "papermill": {
     "duration": 0.065149,
     "end_time": "2023-12-29T15:34:12.313997",
     "exception": false,
     "start_time": "2023-12-29T15:34:12.248848",
     "status": "completed"
    },
    "tags": []
   },
   "outputs": [],
   "source": [
    "model.conv1 = nn.Conv2d(1024, 64, kernel_size=7, stride=2, padding=3, bias=False)"
   ]
  },
  {
   "cell_type": "code",
   "execution_count": 9,
   "id": "c9aefb03",
   "metadata": {
    "execution": {
     "iopub.execute_input": "2023-12-29T15:34:12.333003Z",
     "iopub.status.busy": "2023-12-29T15:34:12.332504Z",
     "iopub.status.idle": "2023-12-29T15:34:12.346679Z",
     "shell.execute_reply": "2023-12-29T15:34:12.345097Z"
    },
    "papermill": {
     "duration": 0.027748,
     "end_time": "2023-12-29T15:34:12.350068",
     "exception": false,
     "start_time": "2023-12-29T15:34:12.322320",
     "status": "completed"
    },
    "tags": []
   },
   "outputs": [
    {
     "data": {
      "text/plain": [
       "ResNet(\n",
       "  (conv1): Conv2d(1024, 64, kernel_size=(7, 7), stride=(2, 2), padding=(3, 3), bias=False)\n",
       "  (bn1): BatchNorm2d(64, eps=1e-05, momentum=0.1, affine=True, track_running_stats=True)\n",
       "  (relu): ReLU(inplace=True)\n",
       "  (maxpool): MaxPool2d(kernel_size=3, stride=2, padding=1, dilation=1, ceil_mode=False)\n",
       "  (layer1): Sequential(\n",
       "    (0): Bottleneck(\n",
       "      (conv1): Conv2d(64, 64, kernel_size=(1, 1), stride=(1, 1), bias=False)\n",
       "      (bn1): BatchNorm2d(64, eps=1e-05, momentum=0.1, affine=True, track_running_stats=True)\n",
       "      (conv2): Conv2d(64, 64, kernel_size=(3, 3), stride=(1, 1), padding=(1, 1), bias=False)\n",
       "      (bn2): BatchNorm2d(64, eps=1e-05, momentum=0.1, affine=True, track_running_stats=True)\n",
       "      (conv3): Conv2d(64, 256, kernel_size=(1, 1), stride=(1, 1), bias=False)\n",
       "      (bn3): BatchNorm2d(256, eps=1e-05, momentum=0.1, affine=True, track_running_stats=True)\n",
       "      (relu): ReLU(inplace=True)\n",
       "      (downsample): Sequential(\n",
       "        (0): Conv2d(64, 256, kernel_size=(1, 1), stride=(1, 1), bias=False)\n",
       "        (1): BatchNorm2d(256, eps=1e-05, momentum=0.1, affine=True, track_running_stats=True)\n",
       "      )\n",
       "    )\n",
       "    (1): Bottleneck(\n",
       "      (conv1): Conv2d(256, 64, kernel_size=(1, 1), stride=(1, 1), bias=False)\n",
       "      (bn1): BatchNorm2d(64, eps=1e-05, momentum=0.1, affine=True, track_running_stats=True)\n",
       "      (conv2): Conv2d(64, 64, kernel_size=(3, 3), stride=(1, 1), padding=(1, 1), bias=False)\n",
       "      (bn2): BatchNorm2d(64, eps=1e-05, momentum=0.1, affine=True, track_running_stats=True)\n",
       "      (conv3): Conv2d(64, 256, kernel_size=(1, 1), stride=(1, 1), bias=False)\n",
       "      (bn3): BatchNorm2d(256, eps=1e-05, momentum=0.1, affine=True, track_running_stats=True)\n",
       "      (relu): ReLU(inplace=True)\n",
       "    )\n",
       "    (2): Bottleneck(\n",
       "      (conv1): Conv2d(256, 64, kernel_size=(1, 1), stride=(1, 1), bias=False)\n",
       "      (bn1): BatchNorm2d(64, eps=1e-05, momentum=0.1, affine=True, track_running_stats=True)\n",
       "      (conv2): Conv2d(64, 64, kernel_size=(3, 3), stride=(1, 1), padding=(1, 1), bias=False)\n",
       "      (bn2): BatchNorm2d(64, eps=1e-05, momentum=0.1, affine=True, track_running_stats=True)\n",
       "      (conv3): Conv2d(64, 256, kernel_size=(1, 1), stride=(1, 1), bias=False)\n",
       "      (bn3): BatchNorm2d(256, eps=1e-05, momentum=0.1, affine=True, track_running_stats=True)\n",
       "      (relu): ReLU(inplace=True)\n",
       "    )\n",
       "  )\n",
       "  (layer2): Sequential(\n",
       "    (0): Bottleneck(\n",
       "      (conv1): Conv2d(256, 128, kernel_size=(1, 1), stride=(1, 1), bias=False)\n",
       "      (bn1): BatchNorm2d(128, eps=1e-05, momentum=0.1, affine=True, track_running_stats=True)\n",
       "      (conv2): Conv2d(128, 128, kernel_size=(3, 3), stride=(2, 2), padding=(1, 1), bias=False)\n",
       "      (bn2): BatchNorm2d(128, eps=1e-05, momentum=0.1, affine=True, track_running_stats=True)\n",
       "      (conv3): Conv2d(128, 512, kernel_size=(1, 1), stride=(1, 1), bias=False)\n",
       "      (bn3): BatchNorm2d(512, eps=1e-05, momentum=0.1, affine=True, track_running_stats=True)\n",
       "      (relu): ReLU(inplace=True)\n",
       "      (downsample): Sequential(\n",
       "        (0): Conv2d(256, 512, kernel_size=(1, 1), stride=(2, 2), bias=False)\n",
       "        (1): BatchNorm2d(512, eps=1e-05, momentum=0.1, affine=True, track_running_stats=True)\n",
       "      )\n",
       "    )\n",
       "    (1): Bottleneck(\n",
       "      (conv1): Conv2d(512, 128, kernel_size=(1, 1), stride=(1, 1), bias=False)\n",
       "      (bn1): BatchNorm2d(128, eps=1e-05, momentum=0.1, affine=True, track_running_stats=True)\n",
       "      (conv2): Conv2d(128, 128, kernel_size=(3, 3), stride=(1, 1), padding=(1, 1), bias=False)\n",
       "      (bn2): BatchNorm2d(128, eps=1e-05, momentum=0.1, affine=True, track_running_stats=True)\n",
       "      (conv3): Conv2d(128, 512, kernel_size=(1, 1), stride=(1, 1), bias=False)\n",
       "      (bn3): BatchNorm2d(512, eps=1e-05, momentum=0.1, affine=True, track_running_stats=True)\n",
       "      (relu): ReLU(inplace=True)\n",
       "    )\n",
       "    (2): Bottleneck(\n",
       "      (conv1): Conv2d(512, 128, kernel_size=(1, 1), stride=(1, 1), bias=False)\n",
       "      (bn1): BatchNorm2d(128, eps=1e-05, momentum=0.1, affine=True, track_running_stats=True)\n",
       "      (conv2): Conv2d(128, 128, kernel_size=(3, 3), stride=(1, 1), padding=(1, 1), bias=False)\n",
       "      (bn2): BatchNorm2d(128, eps=1e-05, momentum=0.1, affine=True, track_running_stats=True)\n",
       "      (conv3): Conv2d(128, 512, kernel_size=(1, 1), stride=(1, 1), bias=False)\n",
       "      (bn3): BatchNorm2d(512, eps=1e-05, momentum=0.1, affine=True, track_running_stats=True)\n",
       "      (relu): ReLU(inplace=True)\n",
       "    )\n",
       "    (3): Bottleneck(\n",
       "      (conv1): Conv2d(512, 128, kernel_size=(1, 1), stride=(1, 1), bias=False)\n",
       "      (bn1): BatchNorm2d(128, eps=1e-05, momentum=0.1, affine=True, track_running_stats=True)\n",
       "      (conv2): Conv2d(128, 128, kernel_size=(3, 3), stride=(1, 1), padding=(1, 1), bias=False)\n",
       "      (bn2): BatchNorm2d(128, eps=1e-05, momentum=0.1, affine=True, track_running_stats=True)\n",
       "      (conv3): Conv2d(128, 512, kernel_size=(1, 1), stride=(1, 1), bias=False)\n",
       "      (bn3): BatchNorm2d(512, eps=1e-05, momentum=0.1, affine=True, track_running_stats=True)\n",
       "      (relu): ReLU(inplace=True)\n",
       "    )\n",
       "  )\n",
       "  (layer3): Sequential(\n",
       "    (0): Bottleneck(\n",
       "      (conv1): Conv2d(512, 256, kernel_size=(1, 1), stride=(1, 1), bias=False)\n",
       "      (bn1): BatchNorm2d(256, eps=1e-05, momentum=0.1, affine=True, track_running_stats=True)\n",
       "      (conv2): Conv2d(256, 256, kernel_size=(3, 3), stride=(2, 2), padding=(1, 1), bias=False)\n",
       "      (bn2): BatchNorm2d(256, eps=1e-05, momentum=0.1, affine=True, track_running_stats=True)\n",
       "      (conv3): Conv2d(256, 1024, kernel_size=(1, 1), stride=(1, 1), bias=False)\n",
       "      (bn3): BatchNorm2d(1024, eps=1e-05, momentum=0.1, affine=True, track_running_stats=True)\n",
       "      (relu): ReLU(inplace=True)\n",
       "      (downsample): Sequential(\n",
       "        (0): Conv2d(512, 1024, kernel_size=(1, 1), stride=(2, 2), bias=False)\n",
       "        (1): BatchNorm2d(1024, eps=1e-05, momentum=0.1, affine=True, track_running_stats=True)\n",
       "      )\n",
       "    )\n",
       "    (1): Bottleneck(\n",
       "      (conv1): Conv2d(1024, 256, kernel_size=(1, 1), stride=(1, 1), bias=False)\n",
       "      (bn1): BatchNorm2d(256, eps=1e-05, momentum=0.1, affine=True, track_running_stats=True)\n",
       "      (conv2): Conv2d(256, 256, kernel_size=(3, 3), stride=(1, 1), padding=(1, 1), bias=False)\n",
       "      (bn2): BatchNorm2d(256, eps=1e-05, momentum=0.1, affine=True, track_running_stats=True)\n",
       "      (conv3): Conv2d(256, 1024, kernel_size=(1, 1), stride=(1, 1), bias=False)\n",
       "      (bn3): BatchNorm2d(1024, eps=1e-05, momentum=0.1, affine=True, track_running_stats=True)\n",
       "      (relu): ReLU(inplace=True)\n",
       "    )\n",
       "    (2): Bottleneck(\n",
       "      (conv1): Conv2d(1024, 256, kernel_size=(1, 1), stride=(1, 1), bias=False)\n",
       "      (bn1): BatchNorm2d(256, eps=1e-05, momentum=0.1, affine=True, track_running_stats=True)\n",
       "      (conv2): Conv2d(256, 256, kernel_size=(3, 3), stride=(1, 1), padding=(1, 1), bias=False)\n",
       "      (bn2): BatchNorm2d(256, eps=1e-05, momentum=0.1, affine=True, track_running_stats=True)\n",
       "      (conv3): Conv2d(256, 1024, kernel_size=(1, 1), stride=(1, 1), bias=False)\n",
       "      (bn3): BatchNorm2d(1024, eps=1e-05, momentum=0.1, affine=True, track_running_stats=True)\n",
       "      (relu): ReLU(inplace=True)\n",
       "    )\n",
       "    (3): Bottleneck(\n",
       "      (conv1): Conv2d(1024, 256, kernel_size=(1, 1), stride=(1, 1), bias=False)\n",
       "      (bn1): BatchNorm2d(256, eps=1e-05, momentum=0.1, affine=True, track_running_stats=True)\n",
       "      (conv2): Conv2d(256, 256, kernel_size=(3, 3), stride=(1, 1), padding=(1, 1), bias=False)\n",
       "      (bn2): BatchNorm2d(256, eps=1e-05, momentum=0.1, affine=True, track_running_stats=True)\n",
       "      (conv3): Conv2d(256, 1024, kernel_size=(1, 1), stride=(1, 1), bias=False)\n",
       "      (bn3): BatchNorm2d(1024, eps=1e-05, momentum=0.1, affine=True, track_running_stats=True)\n",
       "      (relu): ReLU(inplace=True)\n",
       "    )\n",
       "    (4): Bottleneck(\n",
       "      (conv1): Conv2d(1024, 256, kernel_size=(1, 1), stride=(1, 1), bias=False)\n",
       "      (bn1): BatchNorm2d(256, eps=1e-05, momentum=0.1, affine=True, track_running_stats=True)\n",
       "      (conv2): Conv2d(256, 256, kernel_size=(3, 3), stride=(1, 1), padding=(1, 1), bias=False)\n",
       "      (bn2): BatchNorm2d(256, eps=1e-05, momentum=0.1, affine=True, track_running_stats=True)\n",
       "      (conv3): Conv2d(256, 1024, kernel_size=(1, 1), stride=(1, 1), bias=False)\n",
       "      (bn3): BatchNorm2d(1024, eps=1e-05, momentum=0.1, affine=True, track_running_stats=True)\n",
       "      (relu): ReLU(inplace=True)\n",
       "    )\n",
       "    (5): Bottleneck(\n",
       "      (conv1): Conv2d(1024, 256, kernel_size=(1, 1), stride=(1, 1), bias=False)\n",
       "      (bn1): BatchNorm2d(256, eps=1e-05, momentum=0.1, affine=True, track_running_stats=True)\n",
       "      (conv2): Conv2d(256, 256, kernel_size=(3, 3), stride=(1, 1), padding=(1, 1), bias=False)\n",
       "      (bn2): BatchNorm2d(256, eps=1e-05, momentum=0.1, affine=True, track_running_stats=True)\n",
       "      (conv3): Conv2d(256, 1024, kernel_size=(1, 1), stride=(1, 1), bias=False)\n",
       "      (bn3): BatchNorm2d(1024, eps=1e-05, momentum=0.1, affine=True, track_running_stats=True)\n",
       "      (relu): ReLU(inplace=True)\n",
       "    )\n",
       "  )\n",
       "  (layer4): Sequential(\n",
       "    (0): Bottleneck(\n",
       "      (conv1): Conv2d(1024, 512, kernel_size=(1, 1), stride=(1, 1), bias=False)\n",
       "      (bn1): BatchNorm2d(512, eps=1e-05, momentum=0.1, affine=True, track_running_stats=True)\n",
       "      (conv2): Conv2d(512, 512, kernel_size=(3, 3), stride=(2, 2), padding=(1, 1), bias=False)\n",
       "      (bn2): BatchNorm2d(512, eps=1e-05, momentum=0.1, affine=True, track_running_stats=True)\n",
       "      (conv3): Conv2d(512, 2048, kernel_size=(1, 1), stride=(1, 1), bias=False)\n",
       "      (bn3): BatchNorm2d(2048, eps=1e-05, momentum=0.1, affine=True, track_running_stats=True)\n",
       "      (relu): ReLU(inplace=True)\n",
       "      (downsample): Sequential(\n",
       "        (0): Conv2d(1024, 2048, kernel_size=(1, 1), stride=(2, 2), bias=False)\n",
       "        (1): BatchNorm2d(2048, eps=1e-05, momentum=0.1, affine=True, track_running_stats=True)\n",
       "      )\n",
       "    )\n",
       "    (1): Bottleneck(\n",
       "      (conv1): Conv2d(2048, 512, kernel_size=(1, 1), stride=(1, 1), bias=False)\n",
       "      (bn1): BatchNorm2d(512, eps=1e-05, momentum=0.1, affine=True, track_running_stats=True)\n",
       "      (conv2): Conv2d(512, 512, kernel_size=(3, 3), stride=(1, 1), padding=(1, 1), bias=False)\n",
       "      (bn2): BatchNorm2d(512, eps=1e-05, momentum=0.1, affine=True, track_running_stats=True)\n",
       "      (conv3): Conv2d(512, 2048, kernel_size=(1, 1), stride=(1, 1), bias=False)\n",
       "      (bn3): BatchNorm2d(2048, eps=1e-05, momentum=0.1, affine=True, track_running_stats=True)\n",
       "      (relu): ReLU(inplace=True)\n",
       "    )\n",
       "    (2): Bottleneck(\n",
       "      (conv1): Conv2d(2048, 512, kernel_size=(1, 1), stride=(1, 1), bias=False)\n",
       "      (bn1): BatchNorm2d(512, eps=1e-05, momentum=0.1, affine=True, track_running_stats=True)\n",
       "      (conv2): Conv2d(512, 512, kernel_size=(3, 3), stride=(1, 1), padding=(1, 1), bias=False)\n",
       "      (bn2): BatchNorm2d(512, eps=1e-05, momentum=0.1, affine=True, track_running_stats=True)\n",
       "      (conv3): Conv2d(512, 2048, kernel_size=(1, 1), stride=(1, 1), bias=False)\n",
       "      (bn3): BatchNorm2d(2048, eps=1e-05, momentum=0.1, affine=True, track_running_stats=True)\n",
       "      (relu): ReLU(inplace=True)\n",
       "    )\n",
       "  )\n",
       "  (avgpool): AdaptiveAvgPool2d(output_size=(1, 1))\n",
       "  (fc): Linear(in_features=2048, out_features=5, bias=True)\n",
       ")"
      ]
     },
     "execution_count": 9,
     "metadata": {},
     "output_type": "execute_result"
    }
   ],
   "source": [
    "model"
   ]
  },
  {
   "cell_type": "code",
   "execution_count": 10,
   "id": "9fa1142d",
   "metadata": {
    "execution": {
     "iopub.execute_input": "2023-12-29T15:34:12.370327Z",
     "iopub.status.busy": "2023-12-29T15:34:12.369782Z",
     "iopub.status.idle": "2023-12-29T15:34:12.386713Z",
     "shell.execute_reply": "2023-12-29T15:34:12.384752Z"
    },
    "papermill": {
     "duration": 0.030606,
     "end_time": "2023-12-29T15:34:12.390131",
     "exception": false,
     "start_time": "2023-12-29T15:34:12.359525",
     "status": "completed"
    },
    "tags": []
   },
   "outputs": [],
   "source": [
    "arr = df.loc[:, [col for col in df.columns if col not in (\"id\", \"filename\", \"genre\")]].values"
   ]
  },
  {
   "cell_type": "code",
   "execution_count": 11,
   "id": "0afbd3e1",
   "metadata": {
    "execution": {
     "iopub.execute_input": "2023-12-29T15:34:12.409506Z",
     "iopub.status.busy": "2023-12-29T15:34:12.409002Z",
     "iopub.status.idle": "2023-12-29T15:34:12.427203Z",
     "shell.execute_reply": "2023-12-29T15:34:12.425801Z"
    },
    "papermill": {
     "duration": 0.032237,
     "end_time": "2023-12-29T15:34:12.430517",
     "exception": false,
     "start_time": "2023-12-29T15:34:12.398280",
     "status": "completed"
    },
    "tags": []
   },
   "outputs": [],
   "source": [
    "tensor = torch.tensor(arr)"
   ]
  },
  {
   "cell_type": "code",
   "execution_count": 12,
   "id": "3a6d4ddf",
   "metadata": {
    "execution": {
     "iopub.execute_input": "2023-12-29T15:34:12.451103Z",
     "iopub.status.busy": "2023-12-29T15:34:12.450585Z",
     "iopub.status.idle": "2023-12-29T15:34:12.459540Z",
     "shell.execute_reply": "2023-12-29T15:34:12.457566Z"
    },
    "papermill": {
     "duration": 0.02366,
     "end_time": "2023-12-29T15:34:12.462769",
     "exception": false,
     "start_time": "2023-12-29T15:34:12.439109",
     "status": "completed"
    },
    "tags": []
   },
   "outputs": [],
   "source": [
    "for param in model.parameters(): # freeze every layer \n",
    "    param.requires_grad = False"
   ]
  },
  {
   "cell_type": "code",
   "execution_count": 13,
   "id": "0aca765e",
   "metadata": {
    "execution": {
     "iopub.execute_input": "2023-12-29T15:34:12.481421Z",
     "iopub.status.busy": "2023-12-29T15:34:12.480409Z",
     "iopub.status.idle": "2023-12-29T15:34:12.487192Z",
     "shell.execute_reply": "2023-12-29T15:34:12.485755Z"
    },
    "papermill": {
     "duration": 0.019335,
     "end_time": "2023-12-29T15:34:12.490054",
     "exception": false,
     "start_time": "2023-12-29T15:34:12.470719",
     "status": "completed"
    },
    "tags": []
   },
   "outputs": [],
   "source": [
    "for param in model.fc.parameters(): # except last fully connected layer\n",
    "    param.requires_grad = True"
   ]
  },
  {
   "cell_type": "code",
   "execution_count": null,
   "id": "1c935061",
   "metadata": {
    "papermill": {
     "duration": 0.007397,
     "end_time": "2023-12-29T15:34:12.505374",
     "exception": false,
     "start_time": "2023-12-29T15:34:12.497977",
     "status": "completed"
    },
    "tags": []
   },
   "outputs": [],
   "source": []
  }
 ],
 "metadata": {
  "kaggle": {
   "accelerator": "none",
   "dataSources": [],
   "dockerImageVersionId": 30626,
   "isGpuEnabled": false,
   "isInternetEnabled": true,
   "language": "python",
   "sourceType": "notebook"
  },
  "kernelspec": {
   "display_name": "Python 3",
   "language": "python",
   "name": "python3"
  },
  "language_info": {
   "codemirror_mode": {
    "name": "ipython",
    "version": 3
   },
   "file_extension": ".py",
   "mimetype": "text/x-python",
   "name": "python",
   "nbconvert_exporter": "python",
   "pygments_lexer": "ipython3",
   "version": "3.10.12"
  },
  "papermill": {
   "default_parameters": {},
   "duration": 17.922403,
   "end_time": "2023-12-29T15:34:15.022181",
   "environment_variables": {},
   "exception": null,
   "input_path": "__notebook__.ipynb",
   "output_path": "__notebook__.ipynb",
   "parameters": {},
   "start_time": "2023-12-29T15:33:57.099778",
   "version": "2.4.0"
  }
 },
 "nbformat": 4,
 "nbformat_minor": 5
}
