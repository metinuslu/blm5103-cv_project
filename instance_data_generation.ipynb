{
  "cells": [
    {
      "cell_type": "markdown",
      "metadata": {
        "id": "view-in-github",
        "colab_type": "text"
      },
      "source": [
        "<a href=\"https://colab.research.google.com/github/metinuslu/blm5103_cv_project/blob/main/instance_data_generation.ipynb\" target=\"_parent\"><img src=\"https://colab.research.google.com/assets/colab-badge.svg\" alt=\"Open In Colab\"/></a>"
      ]
    },
    {
      "cell_type": "code",
      "execution_count": null,
      "id": "23569be3",
      "metadata": {
        "_cell_guid": "b1076dfc-b9ad-4769-8c92-a6c4dae69d19",
        "_uuid": "8f2839f25d086af736a60e9eeb907d3b93b6e0e5",
        "execution": {
          "iopub.execute_input": "2023-12-29T15:34:01.505808Z",
          "iopub.status.busy": "2023-12-29T15:34:01.503817Z",
          "iopub.status.idle": "2023-12-29T15:34:02.118066Z",
          "shell.execute_reply": "2023-12-29T15:34:02.115789Z"
        },
        "papermill": {
          "duration": 0.628219,
          "end_time": "2023-12-29T15:34:02.122310",
          "exception": false,
          "start_time": "2023-12-29T15:34:01.494091",
          "status": "completed"
        },
        "tags": [],
        "id": "23569be3"
      },
      "outputs": [],
      "source": [
        "# This Python 3 environment comes with many helpful analytics libraries installed\n",
        "# It is defined by the kaggle/python Docker image: https://github.com/kaggle/docker-python\n",
        "# For example, here's several helpful packages to load\n",
        "\n",
        "import numpy as np # linear algebra\n",
        "import pandas as pd # data processing, CSV file I/O (e.g. pd.read_csv)\n",
        "\n",
        "# Input data files are available in the read-only \"../input/\" directory\n",
        "# For example, running this (by clicking run or pressing Shift+Enter) will list all files under the input directory\n",
        "\n",
        "import os\n",
        "for dirname, _, filenames in os.walk('/kaggle/input'):\n",
        "    for filename in filenames:\n",
        "        print(os.path.join(dirname, filename))\n",
        "\n",
        "# You can write up to 20GB to the current directory (/kaggle/working/) that gets preserved as output when you create a version using \"Save & Run All\"\n",
        "# You can also write temporary files to /kaggle/temp/, but they won't be saved outside of the current session"
      ]
    },
    {
      "cell_type": "code",
      "execution_count": null,
      "id": "bb355000",
      "metadata": {
        "execution": {
          "iopub.execute_input": "2023-12-29T15:34:02.138722Z",
          "iopub.status.busy": "2023-12-29T15:34:02.137348Z",
          "iopub.status.idle": "2023-12-29T15:34:04.310980Z",
          "shell.execute_reply": "2023-12-29T15:34:04.309413Z"
        },
        "papermill": {
          "duration": 2.186923,
          "end_time": "2023-12-29T15:34:04.315848",
          "exception": false,
          "start_time": "2023-12-29T15:34:02.128925",
          "status": "completed"
        },
        "tags": [],
        "id": "bb355000"
      },
      "outputs": [],
      "source": [
        "# define the possible values for genre\n",
        "genres = [\"action\", \"comedy\", \"drama\", \"horror\", \"romance\"]\n",
        "\n",
        "# generate 1000 random ids\n",
        "ids = np.arange(1, 1001)\n",
        "# generate 1000 random filenames\n",
        "filenames = np.array([f\"file_{id}.txt\" for id in ids])\n",
        "# generate a 1000 x 1024 array of random numbers between 0 and 255\n",
        "x = np.random.randint(0, 256, size=(1000, 1024))\n",
        "# choose 1000 random genres from the list\n",
        "genres = np.random.choice(genres, size=1000)\n",
        "\n",
        "# create a dataframe from the arrays\n",
        "df = pd.DataFrame(np.column_stack([ids, filenames, x, genres]))\n",
        "# rename the columns\n",
        "df.columns = [\"id\", \"filename\"] + [f\"x{i}\" for i in range(1, 1025)] + [\"genre\"]\n",
        "\n",
        "# write the dataframe to a csv file\n",
        "df.to_csv(\"records.csv\", index=False)"
      ]
    },
    {
      "cell_type": "code",
      "source": [
        "from google.colab import drive\n",
        "drive.mount('/content/drive')"
      ],
      "metadata": {
        "colab": {
          "base_uri": "https://localhost:8080/"
        },
        "id": "gw0bvcCqwyd1",
        "outputId": "6b028206-3fc0-4609-f4a5-7ee2472f561c"
      },
      "id": "gw0bvcCqwyd1",
      "execution_count": null,
      "outputs": [
        {
          "output_type": "stream",
          "name": "stdout",
          "text": [
            "Mounted at /content/drive\n"
          ]
        }
      ]
    },
    {
      "cell_type": "code",
      "execution_count": null,
      "id": "81cfc025",
      "metadata": {
        "execution": {
          "iopub.execute_input": "2023-12-29T15:34:04.334238Z",
          "iopub.status.busy": "2023-12-29T15:34:04.333715Z",
          "iopub.status.idle": "2023-12-29T15:34:04.654926Z",
          "shell.execute_reply": "2023-12-29T15:34:04.651626Z"
        },
        "papermill": {
          "duration": 0.339014,
          "end_time": "2023-12-29T15:34:04.661421",
          "exception": false,
          "start_time": "2023-12-29T15:34:04.322407",
          "status": "completed"
        },
        "tags": [],
        "id": "81cfc025"
      },
      "outputs": [],
      "source": [
        "df = pd.read_csv(\"/content/drive/MyDrive/blm5103_cv_project/records.csv\")"
      ]
    },
    {
      "cell_type": "code",
      "execution_count": null,
      "id": "c28aa9c7",
      "metadata": {
        "execution": {
          "iopub.execute_input": "2023-12-29T15:34:04.681404Z",
          "iopub.status.busy": "2023-12-29T15:34:04.680859Z",
          "iopub.status.idle": "2023-12-29T15:34:04.734816Z",
          "shell.execute_reply": "2023-12-29T15:34:04.733003Z"
        },
        "papermill": {
          "duration": 0.069453,
          "end_time": "2023-12-29T15:34:04.739643",
          "exception": false,
          "start_time": "2023-12-29T15:34:04.670190",
          "status": "completed"
        },
        "tags": [],
        "colab": {
          "base_uri": "https://localhost:8080/",
          "height": 235
        },
        "id": "c28aa9c7",
        "outputId": "6f4b66a2-a549-4e95-f91e-94343261d073"
      },
      "outputs": [
        {
          "output_type": "execute_result",
          "data": {
            "text/plain": [
              "   id    filename   x1   x2   x3   x4   x5   x6   x7   x8  ...  x1016  x1017  \\\n",
              "0   1  file_1.txt  102   94   75   20   26   57  248  227  ...     19    116   \n",
              "1   2  file_2.txt   51  216  214   43  248   55  196  215  ...    242    103   \n",
              "2   3  file_3.txt   86   44  250   79  134   96   87  132  ...    116     19   \n",
              "3   4  file_4.txt   41  123   70  252  135  132    2   94  ...    224    194   \n",
              "4   5  file_5.txt  123   11  157  158  145   21   84   69  ...    191    224   \n",
              "\n",
              "   x1018  x1019  x1020  x1021  x1022  x1023  x1024    genre  \n",
              "0    165     81     20    253     97     18     92    drama  \n",
              "1    128    172    221     55    110    115    241  romance  \n",
              "2    250      5     54     95     94    152      2   horror  \n",
              "3    201    132    100    111    159    162    175   action  \n",
              "4     62    231    174     35     51     19    236   action  \n",
              "\n",
              "[5 rows x 1027 columns]"
            ],
            "text/html": [
              "\n",
              "  <div id=\"df-2dda71c3-f7a0-4348-84aa-9eeb946752f1\" class=\"colab-df-container\">\n",
              "    <div>\n",
              "<style scoped>\n",
              "    .dataframe tbody tr th:only-of-type {\n",
              "        vertical-align: middle;\n",
              "    }\n",
              "\n",
              "    .dataframe tbody tr th {\n",
              "        vertical-align: top;\n",
              "    }\n",
              "\n",
              "    .dataframe thead th {\n",
              "        text-align: right;\n",
              "    }\n",
              "</style>\n",
              "<table border=\"1\" class=\"dataframe\">\n",
              "  <thead>\n",
              "    <tr style=\"text-align: right;\">\n",
              "      <th></th>\n",
              "      <th>id</th>\n",
              "      <th>filename</th>\n",
              "      <th>x1</th>\n",
              "      <th>x2</th>\n",
              "      <th>x3</th>\n",
              "      <th>x4</th>\n",
              "      <th>x5</th>\n",
              "      <th>x6</th>\n",
              "      <th>x7</th>\n",
              "      <th>x8</th>\n",
              "      <th>...</th>\n",
              "      <th>x1016</th>\n",
              "      <th>x1017</th>\n",
              "      <th>x1018</th>\n",
              "      <th>x1019</th>\n",
              "      <th>x1020</th>\n",
              "      <th>x1021</th>\n",
              "      <th>x1022</th>\n",
              "      <th>x1023</th>\n",
              "      <th>x1024</th>\n",
              "      <th>genre</th>\n",
              "    </tr>\n",
              "  </thead>\n",
              "  <tbody>\n",
              "    <tr>\n",
              "      <th>0</th>\n",
              "      <td>1</td>\n",
              "      <td>file_1.txt</td>\n",
              "      <td>102</td>\n",
              "      <td>94</td>\n",
              "      <td>75</td>\n",
              "      <td>20</td>\n",
              "      <td>26</td>\n",
              "      <td>57</td>\n",
              "      <td>248</td>\n",
              "      <td>227</td>\n",
              "      <td>...</td>\n",
              "      <td>19</td>\n",
              "      <td>116</td>\n",
              "      <td>165</td>\n",
              "      <td>81</td>\n",
              "      <td>20</td>\n",
              "      <td>253</td>\n",
              "      <td>97</td>\n",
              "      <td>18</td>\n",
              "      <td>92</td>\n",
              "      <td>drama</td>\n",
              "    </tr>\n",
              "    <tr>\n",
              "      <th>1</th>\n",
              "      <td>2</td>\n",
              "      <td>file_2.txt</td>\n",
              "      <td>51</td>\n",
              "      <td>216</td>\n",
              "      <td>214</td>\n",
              "      <td>43</td>\n",
              "      <td>248</td>\n",
              "      <td>55</td>\n",
              "      <td>196</td>\n",
              "      <td>215</td>\n",
              "      <td>...</td>\n",
              "      <td>242</td>\n",
              "      <td>103</td>\n",
              "      <td>128</td>\n",
              "      <td>172</td>\n",
              "      <td>221</td>\n",
              "      <td>55</td>\n",
              "      <td>110</td>\n",
              "      <td>115</td>\n",
              "      <td>241</td>\n",
              "      <td>romance</td>\n",
              "    </tr>\n",
              "    <tr>\n",
              "      <th>2</th>\n",
              "      <td>3</td>\n",
              "      <td>file_3.txt</td>\n",
              "      <td>86</td>\n",
              "      <td>44</td>\n",
              "      <td>250</td>\n",
              "      <td>79</td>\n",
              "      <td>134</td>\n",
              "      <td>96</td>\n",
              "      <td>87</td>\n",
              "      <td>132</td>\n",
              "      <td>...</td>\n",
              "      <td>116</td>\n",
              "      <td>19</td>\n",
              "      <td>250</td>\n",
              "      <td>5</td>\n",
              "      <td>54</td>\n",
              "      <td>95</td>\n",
              "      <td>94</td>\n",
              "      <td>152</td>\n",
              "      <td>2</td>\n",
              "      <td>horror</td>\n",
              "    </tr>\n",
              "    <tr>\n",
              "      <th>3</th>\n",
              "      <td>4</td>\n",
              "      <td>file_4.txt</td>\n",
              "      <td>41</td>\n",
              "      <td>123</td>\n",
              "      <td>70</td>\n",
              "      <td>252</td>\n",
              "      <td>135</td>\n",
              "      <td>132</td>\n",
              "      <td>2</td>\n",
              "      <td>94</td>\n",
              "      <td>...</td>\n",
              "      <td>224</td>\n",
              "      <td>194</td>\n",
              "      <td>201</td>\n",
              "      <td>132</td>\n",
              "      <td>100</td>\n",
              "      <td>111</td>\n",
              "      <td>159</td>\n",
              "      <td>162</td>\n",
              "      <td>175</td>\n",
              "      <td>action</td>\n",
              "    </tr>\n",
              "    <tr>\n",
              "      <th>4</th>\n",
              "      <td>5</td>\n",
              "      <td>file_5.txt</td>\n",
              "      <td>123</td>\n",
              "      <td>11</td>\n",
              "      <td>157</td>\n",
              "      <td>158</td>\n",
              "      <td>145</td>\n",
              "      <td>21</td>\n",
              "      <td>84</td>\n",
              "      <td>69</td>\n",
              "      <td>...</td>\n",
              "      <td>191</td>\n",
              "      <td>224</td>\n",
              "      <td>62</td>\n",
              "      <td>231</td>\n",
              "      <td>174</td>\n",
              "      <td>35</td>\n",
              "      <td>51</td>\n",
              "      <td>19</td>\n",
              "      <td>236</td>\n",
              "      <td>action</td>\n",
              "    </tr>\n",
              "  </tbody>\n",
              "</table>\n",
              "<p>5 rows × 1027 columns</p>\n",
              "</div>\n",
              "    <div class=\"colab-df-buttons\">\n",
              "\n",
              "  <div class=\"colab-df-container\">\n",
              "    <button class=\"colab-df-convert\" onclick=\"convertToInteractive('df-2dda71c3-f7a0-4348-84aa-9eeb946752f1')\"\n",
              "            title=\"Convert this dataframe to an interactive table.\"\n",
              "            style=\"display:none;\">\n",
              "\n",
              "  <svg xmlns=\"http://www.w3.org/2000/svg\" height=\"24px\" viewBox=\"0 -960 960 960\">\n",
              "    <path d=\"M120-120v-720h720v720H120Zm60-500h600v-160H180v160Zm220 220h160v-160H400v160Zm0 220h160v-160H400v160ZM180-400h160v-160H180v160Zm440 0h160v-160H620v160ZM180-180h160v-160H180v160Zm440 0h160v-160H620v160Z\"/>\n",
              "  </svg>\n",
              "    </button>\n",
              "\n",
              "  <style>\n",
              "    .colab-df-container {\n",
              "      display:flex;\n",
              "      gap: 12px;\n",
              "    }\n",
              "\n",
              "    .colab-df-convert {\n",
              "      background-color: #E8F0FE;\n",
              "      border: none;\n",
              "      border-radius: 50%;\n",
              "      cursor: pointer;\n",
              "      display: none;\n",
              "      fill: #1967D2;\n",
              "      height: 32px;\n",
              "      padding: 0 0 0 0;\n",
              "      width: 32px;\n",
              "    }\n",
              "\n",
              "    .colab-df-convert:hover {\n",
              "      background-color: #E2EBFA;\n",
              "      box-shadow: 0px 1px 2px rgba(60, 64, 67, 0.3), 0px 1px 3px 1px rgba(60, 64, 67, 0.15);\n",
              "      fill: #174EA6;\n",
              "    }\n",
              "\n",
              "    .colab-df-buttons div {\n",
              "      margin-bottom: 4px;\n",
              "    }\n",
              "\n",
              "    [theme=dark] .colab-df-convert {\n",
              "      background-color: #3B4455;\n",
              "      fill: #D2E3FC;\n",
              "    }\n",
              "\n",
              "    [theme=dark] .colab-df-convert:hover {\n",
              "      background-color: #434B5C;\n",
              "      box-shadow: 0px 1px 3px 1px rgba(0, 0, 0, 0.15);\n",
              "      filter: drop-shadow(0px 1px 2px rgba(0, 0, 0, 0.3));\n",
              "      fill: #FFFFFF;\n",
              "    }\n",
              "  </style>\n",
              "\n",
              "    <script>\n",
              "      const buttonEl =\n",
              "        document.querySelector('#df-2dda71c3-f7a0-4348-84aa-9eeb946752f1 button.colab-df-convert');\n",
              "      buttonEl.style.display =\n",
              "        google.colab.kernel.accessAllowed ? 'block' : 'none';\n",
              "\n",
              "      async function convertToInteractive(key) {\n",
              "        const element = document.querySelector('#df-2dda71c3-f7a0-4348-84aa-9eeb946752f1');\n",
              "        const dataTable =\n",
              "          await google.colab.kernel.invokeFunction('convertToInteractive',\n",
              "                                                    [key], {});\n",
              "        if (!dataTable) return;\n",
              "\n",
              "        const docLinkHtml = 'Like what you see? Visit the ' +\n",
              "          '<a target=\"_blank\" href=https://colab.research.google.com/notebooks/data_table.ipynb>data table notebook</a>'\n",
              "          + ' to learn more about interactive tables.';\n",
              "        element.innerHTML = '';\n",
              "        dataTable['output_type'] = 'display_data';\n",
              "        await google.colab.output.renderOutput(dataTable, element);\n",
              "        const docLink = document.createElement('div');\n",
              "        docLink.innerHTML = docLinkHtml;\n",
              "        element.appendChild(docLink);\n",
              "      }\n",
              "    </script>\n",
              "  </div>\n",
              "\n",
              "\n",
              "<div id=\"df-de3b611c-b84b-4f4e-95cf-99b619420fe7\">\n",
              "  <button class=\"colab-df-quickchart\" onclick=\"quickchart('df-de3b611c-b84b-4f4e-95cf-99b619420fe7')\"\n",
              "            title=\"Suggest charts\"\n",
              "            style=\"display:none;\">\n",
              "\n",
              "<svg xmlns=\"http://www.w3.org/2000/svg\" height=\"24px\"viewBox=\"0 0 24 24\"\n",
              "     width=\"24px\">\n",
              "    <g>\n",
              "        <path d=\"M19 3H5c-1.1 0-2 .9-2 2v14c0 1.1.9 2 2 2h14c1.1 0 2-.9 2-2V5c0-1.1-.9-2-2-2zM9 17H7v-7h2v7zm4 0h-2V7h2v10zm4 0h-2v-4h2v4z\"/>\n",
              "    </g>\n",
              "</svg>\n",
              "  </button>\n",
              "\n",
              "<style>\n",
              "  .colab-df-quickchart {\n",
              "      --bg-color: #E8F0FE;\n",
              "      --fill-color: #1967D2;\n",
              "      --hover-bg-color: #E2EBFA;\n",
              "      --hover-fill-color: #174EA6;\n",
              "      --disabled-fill-color: #AAA;\n",
              "      --disabled-bg-color: #DDD;\n",
              "  }\n",
              "\n",
              "  [theme=dark] .colab-df-quickchart {\n",
              "      --bg-color: #3B4455;\n",
              "      --fill-color: #D2E3FC;\n",
              "      --hover-bg-color: #434B5C;\n",
              "      --hover-fill-color: #FFFFFF;\n",
              "      --disabled-bg-color: #3B4455;\n",
              "      --disabled-fill-color: #666;\n",
              "  }\n",
              "\n",
              "  .colab-df-quickchart {\n",
              "    background-color: var(--bg-color);\n",
              "    border: none;\n",
              "    border-radius: 50%;\n",
              "    cursor: pointer;\n",
              "    display: none;\n",
              "    fill: var(--fill-color);\n",
              "    height: 32px;\n",
              "    padding: 0;\n",
              "    width: 32px;\n",
              "  }\n",
              "\n",
              "  .colab-df-quickchart:hover {\n",
              "    background-color: var(--hover-bg-color);\n",
              "    box-shadow: 0 1px 2px rgba(60, 64, 67, 0.3), 0 1px 3px 1px rgba(60, 64, 67, 0.15);\n",
              "    fill: var(--button-hover-fill-color);\n",
              "  }\n",
              "\n",
              "  .colab-df-quickchart-complete:disabled,\n",
              "  .colab-df-quickchart-complete:disabled:hover {\n",
              "    background-color: var(--disabled-bg-color);\n",
              "    fill: var(--disabled-fill-color);\n",
              "    box-shadow: none;\n",
              "  }\n",
              "\n",
              "  .colab-df-spinner {\n",
              "    border: 2px solid var(--fill-color);\n",
              "    border-color: transparent;\n",
              "    border-bottom-color: var(--fill-color);\n",
              "    animation:\n",
              "      spin 1s steps(1) infinite;\n",
              "  }\n",
              "\n",
              "  @keyframes spin {\n",
              "    0% {\n",
              "      border-color: transparent;\n",
              "      border-bottom-color: var(--fill-color);\n",
              "      border-left-color: var(--fill-color);\n",
              "    }\n",
              "    20% {\n",
              "      border-color: transparent;\n",
              "      border-left-color: var(--fill-color);\n",
              "      border-top-color: var(--fill-color);\n",
              "    }\n",
              "    30% {\n",
              "      border-color: transparent;\n",
              "      border-left-color: var(--fill-color);\n",
              "      border-top-color: var(--fill-color);\n",
              "      border-right-color: var(--fill-color);\n",
              "    }\n",
              "    40% {\n",
              "      border-color: transparent;\n",
              "      border-right-color: var(--fill-color);\n",
              "      border-top-color: var(--fill-color);\n",
              "    }\n",
              "    60% {\n",
              "      border-color: transparent;\n",
              "      border-right-color: var(--fill-color);\n",
              "    }\n",
              "    80% {\n",
              "      border-color: transparent;\n",
              "      border-right-color: var(--fill-color);\n",
              "      border-bottom-color: var(--fill-color);\n",
              "    }\n",
              "    90% {\n",
              "      border-color: transparent;\n",
              "      border-bottom-color: var(--fill-color);\n",
              "    }\n",
              "  }\n",
              "</style>\n",
              "\n",
              "  <script>\n",
              "    async function quickchart(key) {\n",
              "      const quickchartButtonEl =\n",
              "        document.querySelector('#' + key + ' button');\n",
              "      quickchartButtonEl.disabled = true;  // To prevent multiple clicks.\n",
              "      quickchartButtonEl.classList.add('colab-df-spinner');\n",
              "      try {\n",
              "        const charts = await google.colab.kernel.invokeFunction(\n",
              "            'suggestCharts', [key], {});\n",
              "      } catch (error) {\n",
              "        console.error('Error during call to suggestCharts:', error);\n",
              "      }\n",
              "      quickchartButtonEl.classList.remove('colab-df-spinner');\n",
              "      quickchartButtonEl.classList.add('colab-df-quickchart-complete');\n",
              "    }\n",
              "    (() => {\n",
              "      let quickchartButtonEl =\n",
              "        document.querySelector('#df-de3b611c-b84b-4f4e-95cf-99b619420fe7 button');\n",
              "      quickchartButtonEl.style.display =\n",
              "        google.colab.kernel.accessAllowed ? 'block' : 'none';\n",
              "    })();\n",
              "  </script>\n",
              "</div>\n",
              "\n",
              "    </div>\n",
              "  </div>\n"
            ]
          },
          "metadata": {},
          "execution_count": 5
        }
      ],
      "source": [
        "df.head()"
      ]
    },
    {
      "cell_type": "code",
      "source": [
        "from torchvision import models\n",
        "import torch.nn as nn\n",
        "import torch\n",
        "from torch.utils.data import Dataset, DataLoader\n",
        "from sklearn.preprocessing import LabelEncoder\n",
        "from sklearn.model_selection import train_test_split\n",
        "import torch.optim as optim\n",
        "import torchvision.transforms as transforms"
      ],
      "metadata": {
        "id": "flglKiV-W9iV"
      },
      "id": "flglKiV-W9iV",
      "execution_count": null,
      "outputs": []
    },
    {
      "cell_type": "code",
      "source": [
        "encoder = LabelEncoder()"
      ],
      "metadata": {
        "id": "C8ubUvicI1aE"
      },
      "id": "C8ubUvicI1aE",
      "execution_count": null,
      "outputs": []
    },
    {
      "cell_type": "code",
      "source": [
        "df['encoded_target'] = encoder.fit_transform(df['genre'])"
      ],
      "metadata": {
        "id": "OO20g3v5JJTV"
      },
      "id": "OO20g3v5JJTV",
      "execution_count": null,
      "outputs": []
    },
    {
      "cell_type": "code",
      "source": [
        "class CustomDataset(Dataset):\n",
        "    def __init__(self, dataframe):\n",
        "        self.data = dataframe\n",
        "\n",
        "    def __repr__(self):\n",
        "      return \"CustomDataset\"\n",
        "\n",
        "    def __len__(self):\n",
        "        return len(self.data)\n",
        "\n",
        "    def __getitem__(self, idx):\n",
        "        # İlgili özellikleri ve etiketi seçme\n",
        "        features = torch.tensor(self.data.iloc[idx, :-1], dtype=torch.float)\n",
        "        target = torch.tensor(self.data.iloc[idx, -1], dtype=torch.long)\n",
        "\n",
        "        return features, target"
      ],
      "metadata": {
        "id": "Wu3zBjuqDVsI"
      },
      "id": "Wu3zBjuqDVsI",
      "execution_count": null,
      "outputs": []
    },
    {
      "cell_type": "code",
      "source": [
        "filtred_df = df.loc[:, [col for col in df.columns if col not in (\"filename\", \"id\", \"genre\")]]"
      ],
      "metadata": {
        "id": "XHwQHBOUFm5H"
      },
      "id": "XHwQHBOUFm5H",
      "execution_count": null,
      "outputs": []
    },
    {
      "cell_type": "code",
      "source": [
        "dataset = CustomDataset(df.loc[:, [col for col in df.columns if col not in (\"filename\", \"id\", \"genre\")]])"
      ],
      "metadata": {
        "id": "s9KfZLMTD8ur"
      },
      "id": "s9KfZLMTD8ur",
      "execution_count": null,
      "outputs": []
    },
    {
      "cell_type": "code",
      "source": [
        "dataset"
      ],
      "metadata": {
        "colab": {
          "base_uri": "https://localhost:8080/"
        },
        "id": "J0FG0MEQEMKv",
        "outputId": "c2fcc98b-e7bb-40a5-9763-e13217b47bde"
      },
      "id": "J0FG0MEQEMKv",
      "execution_count": null,
      "outputs": [
        {
          "output_type": "execute_result",
          "data": {
            "text/plain": [
              "CustomDataset"
            ]
          },
          "metadata": {},
          "execution_count": 294
        }
      ]
    },
    {
      "cell_type": "code",
      "source": [
        "train_data, val_data = train_test_split(filtred_df, test_size=0.2, random_state=42)"
      ],
      "metadata": {
        "id": "vWAh5gdOYFrs"
      },
      "id": "vWAh5gdOYFrs",
      "execution_count": null,
      "outputs": []
    },
    {
      "cell_type": "code",
      "source": [
        "train_data.loc[:, train_data.columns != \"encoded_target\"]"
      ],
      "metadata": {
        "colab": {
          "base_uri": "https://localhost:8080/",
          "height": 423
        },
        "id": "kpljtQtOJan4",
        "outputId": "76784fbd-7e3f-4c58-91c4-0d15ae37261f"
      },
      "id": "kpljtQtOJan4",
      "execution_count": null,
      "outputs": [
        {
          "output_type": "execute_result",
          "data": {
            "text/plain": [
              "      x1   x2   x3   x4   x5   x6   x7   x8   x9  x10  ...  x1015  x1016  \\\n",
              "29   155  113  120  143  181  148   29   90  155  205  ...    198    212   \n",
              "535  160  221  128  165   16   10  254   89  235  120  ...     86     72   \n",
              "695  233  179   14   43  247  222  159   36  143  237  ...     46    122   \n",
              "557   33  221  217   39  224  221   94  222  168   11  ...     93    182   \n",
              "836  245  156  101  198    3  193   31  233   91  136  ...    112     25   \n",
              "..   ...  ...  ...  ...  ...  ...  ...  ...  ...  ...  ...    ...    ...   \n",
              "106   46  219  227  252  140  186   43  124  145  209  ...    212     23   \n",
              "270  100  243   58  179  114  196  139  138   96  133  ...     38    243   \n",
              "860  107   77  235  157  255  177  142  141   59   42  ...    146    183   \n",
              "435  225  151   78  132  160  205  148  132    7  217  ...    163     30   \n",
              "102  227  184  146   24   59  189  107  239  227  135  ...     68    210   \n",
              "\n",
              "     x1017  x1018  x1019  x1020  x1021  x1022  x1023  x1024  \n",
              "29     157    163    177     53     82    196     83    130  \n",
              "535    172    143    157    205     43    185      6    139  \n",
              "695     48    231    230      7     12    153    186     46  \n",
              "557    205    109    239    102    204    166    193    112  \n",
              "836    109     68    234    140    192     27    211     92  \n",
              "..     ...    ...    ...    ...    ...    ...    ...    ...  \n",
              "106     93    117    150     41    118    224     60     59  \n",
              "270    167    138     59    172     48    140     85     23  \n",
              "860     61    179    223      3    250    235    240    244  \n",
              "435    105    238     76    221     10     18     44    205  \n",
              "102    117    240    223     61    191    212    169    168  \n",
              "\n",
              "[800 rows x 1024 columns]"
            ],
            "text/html": [
              "\n",
              "  <div id=\"df-b58d4bab-9832-4b86-9de4-0473b72d24cd\" class=\"colab-df-container\">\n",
              "    <div>\n",
              "<style scoped>\n",
              "    .dataframe tbody tr th:only-of-type {\n",
              "        vertical-align: middle;\n",
              "    }\n",
              "\n",
              "    .dataframe tbody tr th {\n",
              "        vertical-align: top;\n",
              "    }\n",
              "\n",
              "    .dataframe thead th {\n",
              "        text-align: right;\n",
              "    }\n",
              "</style>\n",
              "<table border=\"1\" class=\"dataframe\">\n",
              "  <thead>\n",
              "    <tr style=\"text-align: right;\">\n",
              "      <th></th>\n",
              "      <th>x1</th>\n",
              "      <th>x2</th>\n",
              "      <th>x3</th>\n",
              "      <th>x4</th>\n",
              "      <th>x5</th>\n",
              "      <th>x6</th>\n",
              "      <th>x7</th>\n",
              "      <th>x8</th>\n",
              "      <th>x9</th>\n",
              "      <th>x10</th>\n",
              "      <th>...</th>\n",
              "      <th>x1015</th>\n",
              "      <th>x1016</th>\n",
              "      <th>x1017</th>\n",
              "      <th>x1018</th>\n",
              "      <th>x1019</th>\n",
              "      <th>x1020</th>\n",
              "      <th>x1021</th>\n",
              "      <th>x1022</th>\n",
              "      <th>x1023</th>\n",
              "      <th>x1024</th>\n",
              "    </tr>\n",
              "  </thead>\n",
              "  <tbody>\n",
              "    <tr>\n",
              "      <th>29</th>\n",
              "      <td>155</td>\n",
              "      <td>113</td>\n",
              "      <td>120</td>\n",
              "      <td>143</td>\n",
              "      <td>181</td>\n",
              "      <td>148</td>\n",
              "      <td>29</td>\n",
              "      <td>90</td>\n",
              "      <td>155</td>\n",
              "      <td>205</td>\n",
              "      <td>...</td>\n",
              "      <td>198</td>\n",
              "      <td>212</td>\n",
              "      <td>157</td>\n",
              "      <td>163</td>\n",
              "      <td>177</td>\n",
              "      <td>53</td>\n",
              "      <td>82</td>\n",
              "      <td>196</td>\n",
              "      <td>83</td>\n",
              "      <td>130</td>\n",
              "    </tr>\n",
              "    <tr>\n",
              "      <th>535</th>\n",
              "      <td>160</td>\n",
              "      <td>221</td>\n",
              "      <td>128</td>\n",
              "      <td>165</td>\n",
              "      <td>16</td>\n",
              "      <td>10</td>\n",
              "      <td>254</td>\n",
              "      <td>89</td>\n",
              "      <td>235</td>\n",
              "      <td>120</td>\n",
              "      <td>...</td>\n",
              "      <td>86</td>\n",
              "      <td>72</td>\n",
              "      <td>172</td>\n",
              "      <td>143</td>\n",
              "      <td>157</td>\n",
              "      <td>205</td>\n",
              "      <td>43</td>\n",
              "      <td>185</td>\n",
              "      <td>6</td>\n",
              "      <td>139</td>\n",
              "    </tr>\n",
              "    <tr>\n",
              "      <th>695</th>\n",
              "      <td>233</td>\n",
              "      <td>179</td>\n",
              "      <td>14</td>\n",
              "      <td>43</td>\n",
              "      <td>247</td>\n",
              "      <td>222</td>\n",
              "      <td>159</td>\n",
              "      <td>36</td>\n",
              "      <td>143</td>\n",
              "      <td>237</td>\n",
              "      <td>...</td>\n",
              "      <td>46</td>\n",
              "      <td>122</td>\n",
              "      <td>48</td>\n",
              "      <td>231</td>\n",
              "      <td>230</td>\n",
              "      <td>7</td>\n",
              "      <td>12</td>\n",
              "      <td>153</td>\n",
              "      <td>186</td>\n",
              "      <td>46</td>\n",
              "    </tr>\n",
              "    <tr>\n",
              "      <th>557</th>\n",
              "      <td>33</td>\n",
              "      <td>221</td>\n",
              "      <td>217</td>\n",
              "      <td>39</td>\n",
              "      <td>224</td>\n",
              "      <td>221</td>\n",
              "      <td>94</td>\n",
              "      <td>222</td>\n",
              "      <td>168</td>\n",
              "      <td>11</td>\n",
              "      <td>...</td>\n",
              "      <td>93</td>\n",
              "      <td>182</td>\n",
              "      <td>205</td>\n",
              "      <td>109</td>\n",
              "      <td>239</td>\n",
              "      <td>102</td>\n",
              "      <td>204</td>\n",
              "      <td>166</td>\n",
              "      <td>193</td>\n",
              "      <td>112</td>\n",
              "    </tr>\n",
              "    <tr>\n",
              "      <th>836</th>\n",
              "      <td>245</td>\n",
              "      <td>156</td>\n",
              "      <td>101</td>\n",
              "      <td>198</td>\n",
              "      <td>3</td>\n",
              "      <td>193</td>\n",
              "      <td>31</td>\n",
              "      <td>233</td>\n",
              "      <td>91</td>\n",
              "      <td>136</td>\n",
              "      <td>...</td>\n",
              "      <td>112</td>\n",
              "      <td>25</td>\n",
              "      <td>109</td>\n",
              "      <td>68</td>\n",
              "      <td>234</td>\n",
              "      <td>140</td>\n",
              "      <td>192</td>\n",
              "      <td>27</td>\n",
              "      <td>211</td>\n",
              "      <td>92</td>\n",
              "    </tr>\n",
              "    <tr>\n",
              "      <th>...</th>\n",
              "      <td>...</td>\n",
              "      <td>...</td>\n",
              "      <td>...</td>\n",
              "      <td>...</td>\n",
              "      <td>...</td>\n",
              "      <td>...</td>\n",
              "      <td>...</td>\n",
              "      <td>...</td>\n",
              "      <td>...</td>\n",
              "      <td>...</td>\n",
              "      <td>...</td>\n",
              "      <td>...</td>\n",
              "      <td>...</td>\n",
              "      <td>...</td>\n",
              "      <td>...</td>\n",
              "      <td>...</td>\n",
              "      <td>...</td>\n",
              "      <td>...</td>\n",
              "      <td>...</td>\n",
              "      <td>...</td>\n",
              "      <td>...</td>\n",
              "    </tr>\n",
              "    <tr>\n",
              "      <th>106</th>\n",
              "      <td>46</td>\n",
              "      <td>219</td>\n",
              "      <td>227</td>\n",
              "      <td>252</td>\n",
              "      <td>140</td>\n",
              "      <td>186</td>\n",
              "      <td>43</td>\n",
              "      <td>124</td>\n",
              "      <td>145</td>\n",
              "      <td>209</td>\n",
              "      <td>...</td>\n",
              "      <td>212</td>\n",
              "      <td>23</td>\n",
              "      <td>93</td>\n",
              "      <td>117</td>\n",
              "      <td>150</td>\n",
              "      <td>41</td>\n",
              "      <td>118</td>\n",
              "      <td>224</td>\n",
              "      <td>60</td>\n",
              "      <td>59</td>\n",
              "    </tr>\n",
              "    <tr>\n",
              "      <th>270</th>\n",
              "      <td>100</td>\n",
              "      <td>243</td>\n",
              "      <td>58</td>\n",
              "      <td>179</td>\n",
              "      <td>114</td>\n",
              "      <td>196</td>\n",
              "      <td>139</td>\n",
              "      <td>138</td>\n",
              "      <td>96</td>\n",
              "      <td>133</td>\n",
              "      <td>...</td>\n",
              "      <td>38</td>\n",
              "      <td>243</td>\n",
              "      <td>167</td>\n",
              "      <td>138</td>\n",
              "      <td>59</td>\n",
              "      <td>172</td>\n",
              "      <td>48</td>\n",
              "      <td>140</td>\n",
              "      <td>85</td>\n",
              "      <td>23</td>\n",
              "    </tr>\n",
              "    <tr>\n",
              "      <th>860</th>\n",
              "      <td>107</td>\n",
              "      <td>77</td>\n",
              "      <td>235</td>\n",
              "      <td>157</td>\n",
              "      <td>255</td>\n",
              "      <td>177</td>\n",
              "      <td>142</td>\n",
              "      <td>141</td>\n",
              "      <td>59</td>\n",
              "      <td>42</td>\n",
              "      <td>...</td>\n",
              "      <td>146</td>\n",
              "      <td>183</td>\n",
              "      <td>61</td>\n",
              "      <td>179</td>\n",
              "      <td>223</td>\n",
              "      <td>3</td>\n",
              "      <td>250</td>\n",
              "      <td>235</td>\n",
              "      <td>240</td>\n",
              "      <td>244</td>\n",
              "    </tr>\n",
              "    <tr>\n",
              "      <th>435</th>\n",
              "      <td>225</td>\n",
              "      <td>151</td>\n",
              "      <td>78</td>\n",
              "      <td>132</td>\n",
              "      <td>160</td>\n",
              "      <td>205</td>\n",
              "      <td>148</td>\n",
              "      <td>132</td>\n",
              "      <td>7</td>\n",
              "      <td>217</td>\n",
              "      <td>...</td>\n",
              "      <td>163</td>\n",
              "      <td>30</td>\n",
              "      <td>105</td>\n",
              "      <td>238</td>\n",
              "      <td>76</td>\n",
              "      <td>221</td>\n",
              "      <td>10</td>\n",
              "      <td>18</td>\n",
              "      <td>44</td>\n",
              "      <td>205</td>\n",
              "    </tr>\n",
              "    <tr>\n",
              "      <th>102</th>\n",
              "      <td>227</td>\n",
              "      <td>184</td>\n",
              "      <td>146</td>\n",
              "      <td>24</td>\n",
              "      <td>59</td>\n",
              "      <td>189</td>\n",
              "      <td>107</td>\n",
              "      <td>239</td>\n",
              "      <td>227</td>\n",
              "      <td>135</td>\n",
              "      <td>...</td>\n",
              "      <td>68</td>\n",
              "      <td>210</td>\n",
              "      <td>117</td>\n",
              "      <td>240</td>\n",
              "      <td>223</td>\n",
              "      <td>61</td>\n",
              "      <td>191</td>\n",
              "      <td>212</td>\n",
              "      <td>169</td>\n",
              "      <td>168</td>\n",
              "    </tr>\n",
              "  </tbody>\n",
              "</table>\n",
              "<p>800 rows × 1024 columns</p>\n",
              "</div>\n",
              "    <div class=\"colab-df-buttons\">\n",
              "\n",
              "  <div class=\"colab-df-container\">\n",
              "    <button class=\"colab-df-convert\" onclick=\"convertToInteractive('df-b58d4bab-9832-4b86-9de4-0473b72d24cd')\"\n",
              "            title=\"Convert this dataframe to an interactive table.\"\n",
              "            style=\"display:none;\">\n",
              "\n",
              "  <svg xmlns=\"http://www.w3.org/2000/svg\" height=\"24px\" viewBox=\"0 -960 960 960\">\n",
              "    <path d=\"M120-120v-720h720v720H120Zm60-500h600v-160H180v160Zm220 220h160v-160H400v160Zm0 220h160v-160H400v160ZM180-400h160v-160H180v160Zm440 0h160v-160H620v160ZM180-180h160v-160H180v160Zm440 0h160v-160H620v160Z\"/>\n",
              "  </svg>\n",
              "    </button>\n",
              "\n",
              "  <style>\n",
              "    .colab-df-container {\n",
              "      display:flex;\n",
              "      gap: 12px;\n",
              "    }\n",
              "\n",
              "    .colab-df-convert {\n",
              "      background-color: #E8F0FE;\n",
              "      border: none;\n",
              "      border-radius: 50%;\n",
              "      cursor: pointer;\n",
              "      display: none;\n",
              "      fill: #1967D2;\n",
              "      height: 32px;\n",
              "      padding: 0 0 0 0;\n",
              "      width: 32px;\n",
              "    }\n",
              "\n",
              "    .colab-df-convert:hover {\n",
              "      background-color: #E2EBFA;\n",
              "      box-shadow: 0px 1px 2px rgba(60, 64, 67, 0.3), 0px 1px 3px 1px rgba(60, 64, 67, 0.15);\n",
              "      fill: #174EA6;\n",
              "    }\n",
              "\n",
              "    .colab-df-buttons div {\n",
              "      margin-bottom: 4px;\n",
              "    }\n",
              "\n",
              "    [theme=dark] .colab-df-convert {\n",
              "      background-color: #3B4455;\n",
              "      fill: #D2E3FC;\n",
              "    }\n",
              "\n",
              "    [theme=dark] .colab-df-convert:hover {\n",
              "      background-color: #434B5C;\n",
              "      box-shadow: 0px 1px 3px 1px rgba(0, 0, 0, 0.15);\n",
              "      filter: drop-shadow(0px 1px 2px rgba(0, 0, 0, 0.3));\n",
              "      fill: #FFFFFF;\n",
              "    }\n",
              "  </style>\n",
              "\n",
              "    <script>\n",
              "      const buttonEl =\n",
              "        document.querySelector('#df-b58d4bab-9832-4b86-9de4-0473b72d24cd button.colab-df-convert');\n",
              "      buttonEl.style.display =\n",
              "        google.colab.kernel.accessAllowed ? 'block' : 'none';\n",
              "\n",
              "      async function convertToInteractive(key) {\n",
              "        const element = document.querySelector('#df-b58d4bab-9832-4b86-9de4-0473b72d24cd');\n",
              "        const dataTable =\n",
              "          await google.colab.kernel.invokeFunction('convertToInteractive',\n",
              "                                                    [key], {});\n",
              "        if (!dataTable) return;\n",
              "\n",
              "        const docLinkHtml = 'Like what you see? Visit the ' +\n",
              "          '<a target=\"_blank\" href=https://colab.research.google.com/notebooks/data_table.ipynb>data table notebook</a>'\n",
              "          + ' to learn more about interactive tables.';\n",
              "        element.innerHTML = '';\n",
              "        dataTable['output_type'] = 'display_data';\n",
              "        await google.colab.output.renderOutput(dataTable, element);\n",
              "        const docLink = document.createElement('div');\n",
              "        docLink.innerHTML = docLinkHtml;\n",
              "        element.appendChild(docLink);\n",
              "      }\n",
              "    </script>\n",
              "  </div>\n",
              "\n",
              "\n",
              "<div id=\"df-a42c669e-8150-461e-847c-8e83e5b906cc\">\n",
              "  <button class=\"colab-df-quickchart\" onclick=\"quickchart('df-a42c669e-8150-461e-847c-8e83e5b906cc')\"\n",
              "            title=\"Suggest charts\"\n",
              "            style=\"display:none;\">\n",
              "\n",
              "<svg xmlns=\"http://www.w3.org/2000/svg\" height=\"24px\"viewBox=\"0 0 24 24\"\n",
              "     width=\"24px\">\n",
              "    <g>\n",
              "        <path d=\"M19 3H5c-1.1 0-2 .9-2 2v14c0 1.1.9 2 2 2h14c1.1 0 2-.9 2-2V5c0-1.1-.9-2-2-2zM9 17H7v-7h2v7zm4 0h-2V7h2v10zm4 0h-2v-4h2v4z\"/>\n",
              "    </g>\n",
              "</svg>\n",
              "  </button>\n",
              "\n",
              "<style>\n",
              "  .colab-df-quickchart {\n",
              "      --bg-color: #E8F0FE;\n",
              "      --fill-color: #1967D2;\n",
              "      --hover-bg-color: #E2EBFA;\n",
              "      --hover-fill-color: #174EA6;\n",
              "      --disabled-fill-color: #AAA;\n",
              "      --disabled-bg-color: #DDD;\n",
              "  }\n",
              "\n",
              "  [theme=dark] .colab-df-quickchart {\n",
              "      --bg-color: #3B4455;\n",
              "      --fill-color: #D2E3FC;\n",
              "      --hover-bg-color: #434B5C;\n",
              "      --hover-fill-color: #FFFFFF;\n",
              "      --disabled-bg-color: #3B4455;\n",
              "      --disabled-fill-color: #666;\n",
              "  }\n",
              "\n",
              "  .colab-df-quickchart {\n",
              "    background-color: var(--bg-color);\n",
              "    border: none;\n",
              "    border-radius: 50%;\n",
              "    cursor: pointer;\n",
              "    display: none;\n",
              "    fill: var(--fill-color);\n",
              "    height: 32px;\n",
              "    padding: 0;\n",
              "    width: 32px;\n",
              "  }\n",
              "\n",
              "  .colab-df-quickchart:hover {\n",
              "    background-color: var(--hover-bg-color);\n",
              "    box-shadow: 0 1px 2px rgba(60, 64, 67, 0.3), 0 1px 3px 1px rgba(60, 64, 67, 0.15);\n",
              "    fill: var(--button-hover-fill-color);\n",
              "  }\n",
              "\n",
              "  .colab-df-quickchart-complete:disabled,\n",
              "  .colab-df-quickchart-complete:disabled:hover {\n",
              "    background-color: var(--disabled-bg-color);\n",
              "    fill: var(--disabled-fill-color);\n",
              "    box-shadow: none;\n",
              "  }\n",
              "\n",
              "  .colab-df-spinner {\n",
              "    border: 2px solid var(--fill-color);\n",
              "    border-color: transparent;\n",
              "    border-bottom-color: var(--fill-color);\n",
              "    animation:\n",
              "      spin 1s steps(1) infinite;\n",
              "  }\n",
              "\n",
              "  @keyframes spin {\n",
              "    0% {\n",
              "      border-color: transparent;\n",
              "      border-bottom-color: var(--fill-color);\n",
              "      border-left-color: var(--fill-color);\n",
              "    }\n",
              "    20% {\n",
              "      border-color: transparent;\n",
              "      border-left-color: var(--fill-color);\n",
              "      border-top-color: var(--fill-color);\n",
              "    }\n",
              "    30% {\n",
              "      border-color: transparent;\n",
              "      border-left-color: var(--fill-color);\n",
              "      border-top-color: var(--fill-color);\n",
              "      border-right-color: var(--fill-color);\n",
              "    }\n",
              "    40% {\n",
              "      border-color: transparent;\n",
              "      border-right-color: var(--fill-color);\n",
              "      border-top-color: var(--fill-color);\n",
              "    }\n",
              "    60% {\n",
              "      border-color: transparent;\n",
              "      border-right-color: var(--fill-color);\n",
              "    }\n",
              "    80% {\n",
              "      border-color: transparent;\n",
              "      border-right-color: var(--fill-color);\n",
              "      border-bottom-color: var(--fill-color);\n",
              "    }\n",
              "    90% {\n",
              "      border-color: transparent;\n",
              "      border-bottom-color: var(--fill-color);\n",
              "    }\n",
              "  }\n",
              "</style>\n",
              "\n",
              "  <script>\n",
              "    async function quickchart(key) {\n",
              "      const quickchartButtonEl =\n",
              "        document.querySelector('#' + key + ' button');\n",
              "      quickchartButtonEl.disabled = true;  // To prevent multiple clicks.\n",
              "      quickchartButtonEl.classList.add('colab-df-spinner');\n",
              "      try {\n",
              "        const charts = await google.colab.kernel.invokeFunction(\n",
              "            'suggestCharts', [key], {});\n",
              "      } catch (error) {\n",
              "        console.error('Error during call to suggestCharts:', error);\n",
              "      }\n",
              "      quickchartButtonEl.classList.remove('colab-df-spinner');\n",
              "      quickchartButtonEl.classList.add('colab-df-quickchart-complete');\n",
              "    }\n",
              "    (() => {\n",
              "      let quickchartButtonEl =\n",
              "        document.querySelector('#df-a42c669e-8150-461e-847c-8e83e5b906cc button');\n",
              "      quickchartButtonEl.style.display =\n",
              "        google.colab.kernel.accessAllowed ? 'block' : 'none';\n",
              "    })();\n",
              "  </script>\n",
              "</div>\n",
              "\n",
              "    </div>\n",
              "  </div>\n"
            ]
          },
          "metadata": {},
          "execution_count": 302
        }
      ]
    },
    {
      "cell_type": "code",
      "source": [
        "X_train = torch.tensor(train_data.loc[:, train_data.columns != \"encoded_target\"].values, dtype=torch.float)"
      ],
      "metadata": {
        "id": "0e8li2ZuIS6x"
      },
      "id": "0e8li2ZuIS6x",
      "execution_count": null,
      "outputs": []
    },
    {
      "cell_type": "code",
      "source": [
        "y_train = torch.tensor(train_data.loc[:, train_data.columns == \"encoded_target\"].values, dtype=torch.float)"
      ],
      "metadata": {
        "id": "kTkltCr1JoO9"
      },
      "id": "kTkltCr1JoO9",
      "execution_count": null,
      "outputs": []
    },
    {
      "cell_type": "code",
      "source": [
        "y_train"
      ],
      "metadata": {
        "id": "gNh8nw8vKMHo"
      },
      "id": "gNh8nw8vKMHo",
      "execution_count": null,
      "outputs": []
    },
    {
      "cell_type": "code",
      "source": [],
      "metadata": {
        "id": "FvLwfeOuNIBx"
      },
      "id": "FvLwfeOuNIBx",
      "execution_count": null,
      "outputs": []
    },
    {
      "cell_type": "code",
      "source": [
        "X_train.view(800 ,32, 32)"
      ],
      "metadata": {
        "id": "1x9KD_gGEUig"
      },
      "id": "1x9KD_gGEUig",
      "execution_count": null,
      "outputs": []
    },
    {
      "cell_type": "code",
      "source": [
        "# DataLoader\n",
        "train_loader = DataLoader(train_data, batch_size=32, shuffle=True)\n",
        "val_loader = DataLoader(val_data, batch_size=32, shuffle=False)"
      ],
      "metadata": {
        "id": "bme0ks2ILQ5A"
      },
      "id": "bme0ks2ILQ5A",
      "execution_count": null,
      "outputs": []
    },
    {
      "cell_type": "code",
      "source": [
        "# Load the pretrained model\n",
        "model = models.resnet50(pretrained=True)"
      ],
      "metadata": {
        "colab": {
          "base_uri": "https://localhost:8080/"
        },
        "id": "t2ru5D27aHiS",
        "outputId": "0b076654-38dc-453a-9674-41b8c4c697f7"
      },
      "id": "t2ru5D27aHiS",
      "execution_count": null,
      "outputs": [
        {
          "output_type": "stream",
          "name": "stderr",
          "text": [
            "/usr/local/lib/python3.10/dist-packages/torchvision/models/_utils.py:208: UserWarning: The parameter 'pretrained' is deprecated since 0.13 and may be removed in the future, please use 'weights' instead.\n",
            "  warnings.warn(\n",
            "/usr/local/lib/python3.10/dist-packages/torchvision/models/_utils.py:223: UserWarning: Arguments other than a weight enum or `None` for 'weights' are deprecated since 0.13 and may be removed in the future. The current behavior is equivalent to passing `weights=ResNet50_Weights.IMAGENET1K_V1`. You can also use `weights=ResNet50_Weights.DEFAULT` to get the most up-to-date weights.\n",
            "  warnings.warn(msg)\n"
          ]
        }
      ]
    },
    {
      "cell_type": "code",
      "source": [
        "num_ftrs = model.fc.in_features\n",
        "\n",
        "# Replace the fully connected layer for transfer learning\n",
        "model.fc = nn.Linear(num_ftrs, 4)"
      ],
      "metadata": {
        "id": "q65moK_NFOar"
      },
      "id": "q65moK_NFOar",
      "execution_count": null,
      "outputs": []
    },
    {
      "cell_type": "code",
      "source": [
        "s = X_train[1].view(3 ,32, 32)"
      ],
      "metadata": {
        "id": "jeMpjNOULmZ7"
      },
      "id": "jeMpjNOULmZ7",
      "execution_count": null,
      "outputs": []
    },
    {
      "cell_type": "code",
      "source": [
        "X_train[1]"
      ],
      "metadata": {
        "colab": {
          "base_uri": "https://localhost:8080/"
        },
        "id": "ZnQPtRP9MCXc",
        "outputId": "a5ac6715-e901-4672-a218-02f29b6fcfad"
      },
      "id": "ZnQPtRP9MCXc",
      "execution_count": null,
      "outputs": [
        {
          "output_type": "execute_result",
          "data": {
            "text/plain": [
              "tensor([160., 221., 128.,  ..., 185.,   6., 139.])"
            ]
          },
          "metadata": {},
          "execution_count": 335
        }
      ]
    },
    {
      "cell_type": "code",
      "source": [
        "model(s)"
      ],
      "metadata": {
        "colab": {
          "base_uri": "https://localhost:8080/",
          "height": 321
        },
        "id": "C26G-vY9Lkk6",
        "outputId": "67787718-8197-4fa6-ca69-fb5733535279"
      },
      "id": "C26G-vY9Lkk6",
      "execution_count": null,
      "outputs": [
        {
          "output_type": "error",
          "ename": "RuntimeError",
          "evalue": "ignored",
          "traceback": [
            "\u001b[0;31m---------------------------------------------------------------------------\u001b[0m",
            "\u001b[0;31mRuntimeError\u001b[0m                              Traceback (most recent call last)",
            "\u001b[0;32m<ipython-input-336-c3fb60718eb7>\u001b[0m in \u001b[0;36m<cell line: 1>\u001b[0;34m()\u001b[0m\n\u001b[0;32m----> 1\u001b[0;31m \u001b[0mmodel\u001b[0m\u001b[0;34m(\u001b[0m\u001b[0ms\u001b[0m\u001b[0;34m)\u001b[0m\u001b[0;34m\u001b[0m\u001b[0;34m\u001b[0m\u001b[0m\n\u001b[0m",
            "\u001b[0;32m/usr/local/lib/python3.10/dist-packages/torch/nn/modules/module.py\u001b[0m in \u001b[0;36m_wrapped_call_impl\u001b[0;34m(self, *args, **kwargs)\u001b[0m\n\u001b[1;32m   1516\u001b[0m             \u001b[0;32mreturn\u001b[0m \u001b[0mself\u001b[0m\u001b[0;34m.\u001b[0m\u001b[0m_compiled_call_impl\u001b[0m\u001b[0;34m(\u001b[0m\u001b[0;34m*\u001b[0m\u001b[0margs\u001b[0m\u001b[0;34m,\u001b[0m \u001b[0;34m**\u001b[0m\u001b[0mkwargs\u001b[0m\u001b[0;34m)\u001b[0m  \u001b[0;31m# type: ignore[misc]\u001b[0m\u001b[0;34m\u001b[0m\u001b[0;34m\u001b[0m\u001b[0m\n\u001b[1;32m   1517\u001b[0m         \u001b[0;32melse\u001b[0m\u001b[0;34m:\u001b[0m\u001b[0;34m\u001b[0m\u001b[0;34m\u001b[0m\u001b[0m\n\u001b[0;32m-> 1518\u001b[0;31m             \u001b[0;32mreturn\u001b[0m \u001b[0mself\u001b[0m\u001b[0;34m.\u001b[0m\u001b[0m_call_impl\u001b[0m\u001b[0;34m(\u001b[0m\u001b[0;34m*\u001b[0m\u001b[0margs\u001b[0m\u001b[0;34m,\u001b[0m \u001b[0;34m**\u001b[0m\u001b[0mkwargs\u001b[0m\u001b[0;34m)\u001b[0m\u001b[0;34m\u001b[0m\u001b[0;34m\u001b[0m\u001b[0m\n\u001b[0m\u001b[1;32m   1519\u001b[0m \u001b[0;34m\u001b[0m\u001b[0m\n\u001b[1;32m   1520\u001b[0m     \u001b[0;32mdef\u001b[0m \u001b[0m_call_impl\u001b[0m\u001b[0;34m(\u001b[0m\u001b[0mself\u001b[0m\u001b[0;34m,\u001b[0m \u001b[0;34m*\u001b[0m\u001b[0margs\u001b[0m\u001b[0;34m,\u001b[0m \u001b[0;34m**\u001b[0m\u001b[0mkwargs\u001b[0m\u001b[0;34m)\u001b[0m\u001b[0;34m:\u001b[0m\u001b[0;34m\u001b[0m\u001b[0;34m\u001b[0m\u001b[0m\n",
            "\u001b[0;32m/usr/local/lib/python3.10/dist-packages/torch/nn/modules/module.py\u001b[0m in \u001b[0;36m_call_impl\u001b[0;34m(self, *args, **kwargs)\u001b[0m\n\u001b[1;32m   1525\u001b[0m                 \u001b[0;32mor\u001b[0m \u001b[0m_global_backward_pre_hooks\u001b[0m \u001b[0;32mor\u001b[0m \u001b[0m_global_backward_hooks\u001b[0m\u001b[0;34m\u001b[0m\u001b[0;34m\u001b[0m\u001b[0m\n\u001b[1;32m   1526\u001b[0m                 or _global_forward_hooks or _global_forward_pre_hooks):\n\u001b[0;32m-> 1527\u001b[0;31m             \u001b[0;32mreturn\u001b[0m \u001b[0mforward_call\u001b[0m\u001b[0;34m(\u001b[0m\u001b[0;34m*\u001b[0m\u001b[0margs\u001b[0m\u001b[0;34m,\u001b[0m \u001b[0;34m**\u001b[0m\u001b[0mkwargs\u001b[0m\u001b[0;34m)\u001b[0m\u001b[0;34m\u001b[0m\u001b[0;34m\u001b[0m\u001b[0m\n\u001b[0m\u001b[1;32m   1528\u001b[0m \u001b[0;34m\u001b[0m\u001b[0m\n\u001b[1;32m   1529\u001b[0m         \u001b[0;32mtry\u001b[0m\u001b[0;34m:\u001b[0m\u001b[0;34m\u001b[0m\u001b[0;34m\u001b[0m\u001b[0m\n",
            "\u001b[0;32m/usr/local/lib/python3.10/dist-packages/torchvision/models/resnet.py\u001b[0m in \u001b[0;36mforward\u001b[0;34m(self, x)\u001b[0m\n\u001b[1;32m    283\u001b[0m \u001b[0;34m\u001b[0m\u001b[0m\n\u001b[1;32m    284\u001b[0m     \u001b[0;32mdef\u001b[0m \u001b[0mforward\u001b[0m\u001b[0;34m(\u001b[0m\u001b[0mself\u001b[0m\u001b[0;34m,\u001b[0m \u001b[0mx\u001b[0m\u001b[0;34m:\u001b[0m \u001b[0mTensor\u001b[0m\u001b[0;34m)\u001b[0m \u001b[0;34m->\u001b[0m \u001b[0mTensor\u001b[0m\u001b[0;34m:\u001b[0m\u001b[0;34m\u001b[0m\u001b[0;34m\u001b[0m\u001b[0m\n\u001b[0;32m--> 285\u001b[0;31m         \u001b[0;32mreturn\u001b[0m \u001b[0mself\u001b[0m\u001b[0;34m.\u001b[0m\u001b[0m_forward_impl\u001b[0m\u001b[0;34m(\u001b[0m\u001b[0mx\u001b[0m\u001b[0;34m)\u001b[0m\u001b[0;34m\u001b[0m\u001b[0;34m\u001b[0m\u001b[0m\n\u001b[0m\u001b[1;32m    286\u001b[0m \u001b[0;34m\u001b[0m\u001b[0m\n\u001b[1;32m    287\u001b[0m \u001b[0;34m\u001b[0m\u001b[0m\n",
            "\u001b[0;32m/usr/local/lib/python3.10/dist-packages/torchvision/models/resnet.py\u001b[0m in \u001b[0;36m_forward_impl\u001b[0;34m(self, x)\u001b[0m\n\u001b[1;32m    266\u001b[0m     \u001b[0;32mdef\u001b[0m \u001b[0m_forward_impl\u001b[0m\u001b[0;34m(\u001b[0m\u001b[0mself\u001b[0m\u001b[0;34m,\u001b[0m \u001b[0mx\u001b[0m\u001b[0;34m:\u001b[0m \u001b[0mTensor\u001b[0m\u001b[0;34m)\u001b[0m \u001b[0;34m->\u001b[0m \u001b[0mTensor\u001b[0m\u001b[0;34m:\u001b[0m\u001b[0;34m\u001b[0m\u001b[0;34m\u001b[0m\u001b[0m\n\u001b[1;32m    267\u001b[0m         \u001b[0;31m# See note [TorchScript super()]\u001b[0m\u001b[0;34m\u001b[0m\u001b[0;34m\u001b[0m\u001b[0m\n\u001b[0;32m--> 268\u001b[0;31m         \u001b[0mx\u001b[0m \u001b[0;34m=\u001b[0m \u001b[0mself\u001b[0m\u001b[0;34m.\u001b[0m\u001b[0mconv1\u001b[0m\u001b[0;34m(\u001b[0m\u001b[0mx\u001b[0m\u001b[0;34m)\u001b[0m\u001b[0;34m\u001b[0m\u001b[0;34m\u001b[0m\u001b[0m\n\u001b[0m\u001b[1;32m    269\u001b[0m         \u001b[0mx\u001b[0m \u001b[0;34m=\u001b[0m \u001b[0mself\u001b[0m\u001b[0;34m.\u001b[0m\u001b[0mbn1\u001b[0m\u001b[0;34m(\u001b[0m\u001b[0mx\u001b[0m\u001b[0;34m)\u001b[0m\u001b[0;34m\u001b[0m\u001b[0;34m\u001b[0m\u001b[0m\n\u001b[1;32m    270\u001b[0m         \u001b[0mx\u001b[0m \u001b[0;34m=\u001b[0m \u001b[0mself\u001b[0m\u001b[0;34m.\u001b[0m\u001b[0mrelu\u001b[0m\u001b[0;34m(\u001b[0m\u001b[0mx\u001b[0m\u001b[0;34m)\u001b[0m\u001b[0;34m\u001b[0m\u001b[0;34m\u001b[0m\u001b[0m\n",
            "\u001b[0;32m/usr/local/lib/python3.10/dist-packages/torch/nn/modules/module.py\u001b[0m in \u001b[0;36m_wrapped_call_impl\u001b[0;34m(self, *args, **kwargs)\u001b[0m\n\u001b[1;32m   1516\u001b[0m             \u001b[0;32mreturn\u001b[0m \u001b[0mself\u001b[0m\u001b[0;34m.\u001b[0m\u001b[0m_compiled_call_impl\u001b[0m\u001b[0;34m(\u001b[0m\u001b[0;34m*\u001b[0m\u001b[0margs\u001b[0m\u001b[0;34m,\u001b[0m \u001b[0;34m**\u001b[0m\u001b[0mkwargs\u001b[0m\u001b[0;34m)\u001b[0m  \u001b[0;31m# type: ignore[misc]\u001b[0m\u001b[0;34m\u001b[0m\u001b[0;34m\u001b[0m\u001b[0m\n\u001b[1;32m   1517\u001b[0m         \u001b[0;32melse\u001b[0m\u001b[0;34m:\u001b[0m\u001b[0;34m\u001b[0m\u001b[0;34m\u001b[0m\u001b[0m\n\u001b[0;32m-> 1518\u001b[0;31m             \u001b[0;32mreturn\u001b[0m \u001b[0mself\u001b[0m\u001b[0;34m.\u001b[0m\u001b[0m_call_impl\u001b[0m\u001b[0;34m(\u001b[0m\u001b[0;34m*\u001b[0m\u001b[0margs\u001b[0m\u001b[0;34m,\u001b[0m \u001b[0;34m**\u001b[0m\u001b[0mkwargs\u001b[0m\u001b[0;34m)\u001b[0m\u001b[0;34m\u001b[0m\u001b[0;34m\u001b[0m\u001b[0m\n\u001b[0m\u001b[1;32m   1519\u001b[0m \u001b[0;34m\u001b[0m\u001b[0m\n\u001b[1;32m   1520\u001b[0m     \u001b[0;32mdef\u001b[0m \u001b[0m_call_impl\u001b[0m\u001b[0;34m(\u001b[0m\u001b[0mself\u001b[0m\u001b[0;34m,\u001b[0m \u001b[0;34m*\u001b[0m\u001b[0margs\u001b[0m\u001b[0;34m,\u001b[0m \u001b[0;34m**\u001b[0m\u001b[0mkwargs\u001b[0m\u001b[0;34m)\u001b[0m\u001b[0;34m:\u001b[0m\u001b[0;34m\u001b[0m\u001b[0;34m\u001b[0m\u001b[0m\n",
            "\u001b[0;32m/usr/local/lib/python3.10/dist-packages/torch/nn/modules/module.py\u001b[0m in \u001b[0;36m_call_impl\u001b[0;34m(self, *args, **kwargs)\u001b[0m\n\u001b[1;32m   1525\u001b[0m                 \u001b[0;32mor\u001b[0m \u001b[0m_global_backward_pre_hooks\u001b[0m \u001b[0;32mor\u001b[0m \u001b[0m_global_backward_hooks\u001b[0m\u001b[0;34m\u001b[0m\u001b[0;34m\u001b[0m\u001b[0m\n\u001b[1;32m   1526\u001b[0m                 or _global_forward_hooks or _global_forward_pre_hooks):\n\u001b[0;32m-> 1527\u001b[0;31m             \u001b[0;32mreturn\u001b[0m \u001b[0mforward_call\u001b[0m\u001b[0;34m(\u001b[0m\u001b[0;34m*\u001b[0m\u001b[0margs\u001b[0m\u001b[0;34m,\u001b[0m \u001b[0;34m**\u001b[0m\u001b[0mkwargs\u001b[0m\u001b[0;34m)\u001b[0m\u001b[0;34m\u001b[0m\u001b[0;34m\u001b[0m\u001b[0m\n\u001b[0m\u001b[1;32m   1528\u001b[0m \u001b[0;34m\u001b[0m\u001b[0m\n\u001b[1;32m   1529\u001b[0m         \u001b[0;32mtry\u001b[0m\u001b[0;34m:\u001b[0m\u001b[0;34m\u001b[0m\u001b[0;34m\u001b[0m\u001b[0m\n",
            "\u001b[0;32m/usr/local/lib/python3.10/dist-packages/torch/nn/modules/conv.py\u001b[0m in \u001b[0;36mforward\u001b[0;34m(self, input)\u001b[0m\n\u001b[1;32m    458\u001b[0m \u001b[0;34m\u001b[0m\u001b[0m\n\u001b[1;32m    459\u001b[0m     \u001b[0;32mdef\u001b[0m \u001b[0mforward\u001b[0m\u001b[0;34m(\u001b[0m\u001b[0mself\u001b[0m\u001b[0;34m,\u001b[0m \u001b[0minput\u001b[0m\u001b[0;34m:\u001b[0m \u001b[0mTensor\u001b[0m\u001b[0;34m)\u001b[0m \u001b[0;34m->\u001b[0m \u001b[0mTensor\u001b[0m\u001b[0;34m:\u001b[0m\u001b[0;34m\u001b[0m\u001b[0;34m\u001b[0m\u001b[0m\n\u001b[0;32m--> 460\u001b[0;31m         \u001b[0;32mreturn\u001b[0m \u001b[0mself\u001b[0m\u001b[0;34m.\u001b[0m\u001b[0m_conv_forward\u001b[0m\u001b[0;34m(\u001b[0m\u001b[0minput\u001b[0m\u001b[0;34m,\u001b[0m \u001b[0mself\u001b[0m\u001b[0;34m.\u001b[0m\u001b[0mweight\u001b[0m\u001b[0;34m,\u001b[0m \u001b[0mself\u001b[0m\u001b[0;34m.\u001b[0m\u001b[0mbias\u001b[0m\u001b[0;34m)\u001b[0m\u001b[0;34m\u001b[0m\u001b[0;34m\u001b[0m\u001b[0m\n\u001b[0m\u001b[1;32m    461\u001b[0m \u001b[0;34m\u001b[0m\u001b[0m\n\u001b[1;32m    462\u001b[0m \u001b[0;32mclass\u001b[0m \u001b[0mConv3d\u001b[0m\u001b[0;34m(\u001b[0m\u001b[0m_ConvNd\u001b[0m\u001b[0;34m)\u001b[0m\u001b[0;34m:\u001b[0m\u001b[0;34m\u001b[0m\u001b[0;34m\u001b[0m\u001b[0m\n",
            "\u001b[0;32m/usr/local/lib/python3.10/dist-packages/torch/nn/modules/conv.py\u001b[0m in \u001b[0;36m_conv_forward\u001b[0;34m(self, input, weight, bias)\u001b[0m\n\u001b[1;32m    454\u001b[0m                             \u001b[0mweight\u001b[0m\u001b[0;34m,\u001b[0m \u001b[0mbias\u001b[0m\u001b[0;34m,\u001b[0m \u001b[0mself\u001b[0m\u001b[0;34m.\u001b[0m\u001b[0mstride\u001b[0m\u001b[0;34m,\u001b[0m\u001b[0;34m\u001b[0m\u001b[0;34m\u001b[0m\u001b[0m\n\u001b[1;32m    455\u001b[0m                             _pair(0), self.dilation, self.groups)\n\u001b[0;32m--> 456\u001b[0;31m         return F.conv2d(input, weight, bias, self.stride,\n\u001b[0m\u001b[1;32m    457\u001b[0m                         self.padding, self.dilation, self.groups)\n\u001b[1;32m    458\u001b[0m \u001b[0;34m\u001b[0m\u001b[0m\n",
            "\u001b[0;31mRuntimeError\u001b[0m: Given groups=1, weight of size [64, 3, 7, 7], expected input[1, 1, 32, 32] to have 3 channels, but got 1 channels instead"
          ]
        }
      ]
    },
    {
      "cell_type": "code",
      "source": [
        "for epoch in range(num_epochs):\n",
        "    model.train()\n",
        "    running_loss = 0.0\n",
        "\n",
        "    for inputs, targets in train_loader:\n",
        "        optimizer.zero_grad()\n",
        "        inputs = inputs.view(-1,1 ,32, 32)\n",
        "        print(inputs.shape)\n",
        "        outputs = modified_resnet(inputs)\n",
        "        loss = criterion(outputs, targets.reshape(-1, 1, 1))\n",
        "        loss.backward()\n",
        "        optimizer.step()\n",
        "\n",
        "        running_loss += loss.item()\n",
        "\n",
        "    # Print average loss per epoch\n",
        "    print(f\"Epoch [{epoch + 1}/{num_epochs}] - Loss: {running_loss / len(train_loader)}\")"
      ],
      "metadata": {
        "id": "izG1AQxcFhBw"
      },
      "id": "izG1AQxcFhBw",
      "execution_count": null,
      "outputs": []
    },
    {
      "cell_type": "code",
      "source": [
        "# Replace the last layer with a new classifier\n",
        "num_classes = 4 # assuming 4 classes in your dataset\n",
        "model.fc = nn.Sequential(\n",
        "    nn.Linear(1 , num_classes), # create a new linear layer with 5 outputs\n",
        "    nn.Softmax(dim = 1)\n",
        ")"
      ],
      "metadata": {
        "id": "6fOoUJoIqrkj"
      },
      "id": "6fOoUJoIqrkj",
      "execution_count": null,
      "outputs": []
    },
    {
      "cell_type": "code",
      "source": [
        "modified_resnet = nn.Sequential(\n",
        "    nn.Conv2d(1, 64, kernel_size=(7, 7), stride=(2, 2), padding=(3, 3), bias=False),\n",
        "    *list(model.children())[1:]  # Use the rest of the layers from the pre-trained ResNet\n",
        ")"
      ],
      "metadata": {
        "id": "XLhcVEvrqTpB"
      },
      "id": "XLhcVEvrqTpB",
      "execution_count": null,
      "outputs": []
    },
    {
      "cell_type": "code",
      "source": [
        "if isinstance(model, models.ResNet):\n",
        "    modified_resnet[0].weight.data = torch.mean(model.conv1.weight, dim=1, keepdim=True)"
      ],
      "metadata": {
        "id": "VFzSvA4aqWwd"
      },
      "id": "VFzSvA4aqWwd",
      "execution_count": null,
      "outputs": []
    },
    {
      "cell_type": "code",
      "source": [
        "modified_resnet[9]"
      ],
      "metadata": {
        "colab": {
          "base_uri": "https://localhost:8080/"
        },
        "id": "DVJmBtwtqbUY",
        "outputId": "3d79ed14-25c5-4959-d77e-d9056d110fb1"
      },
      "id": "DVJmBtwtqbUY",
      "execution_count": null,
      "outputs": [
        {
          "output_type": "execute_result",
          "data": {
            "text/plain": [
              "Sequential(\n",
              "  (0): Linear(in_features=1, out_features=4, bias=True)\n",
              "  (1): Softmax(dim=1)\n",
              ")"
            ]
          },
          "metadata": {},
          "execution_count": 207
        }
      ]
    },
    {
      "cell_type": "code",
      "execution_count": null,
      "id": "3a6d4ddf",
      "metadata": {
        "execution": {
          "iopub.execute_input": "2023-12-29T15:34:12.451103Z",
          "iopub.status.busy": "2023-12-29T15:34:12.450585Z",
          "iopub.status.idle": "2023-12-29T15:34:12.459540Z",
          "shell.execute_reply": "2023-12-29T15:34:12.457566Z"
        },
        "papermill": {
          "duration": 0.02366,
          "end_time": "2023-12-29T15:34:12.462769",
          "exception": false,
          "start_time": "2023-12-29T15:34:12.439109",
          "status": "completed"
        },
        "tags": [],
        "id": "3a6d4ddf"
      },
      "outputs": [],
      "source": [
        "for param in modified_resnet.parameters(): # freeze every layer\n",
        "    param.requires_grad = False"
      ]
    },
    {
      "cell_type": "code",
      "execution_count": null,
      "id": "0aca765e",
      "metadata": {
        "execution": {
          "iopub.execute_input": "2023-12-29T15:34:12.481421Z",
          "iopub.status.busy": "2023-12-29T15:34:12.480409Z",
          "iopub.status.idle": "2023-12-29T15:34:12.487192Z",
          "shell.execute_reply": "2023-12-29T15:34:12.485755Z"
        },
        "papermill": {
          "duration": 0.019335,
          "end_time": "2023-12-29T15:34:12.490054",
          "exception": false,
          "start_time": "2023-12-29T15:34:12.470719",
          "status": "completed"
        },
        "tags": [],
        "id": "0aca765e"
      },
      "outputs": [],
      "source": [
        "for param in modified_resnet[9].parameters(): # except last fully connected layer\n",
        "    param.requires_grad = True"
      ]
    },
    {
      "cell_type": "code",
      "source": [
        "# Define your loss function and optimizer\n",
        "criterion = nn.CrossEntropyLoss()\n",
        "optimizer = torch.optim.Adam(model.parameters(), lr=0.001)"
      ],
      "metadata": {
        "id": "ifUlRMdQ2ni9"
      },
      "id": "ifUlRMdQ2ni9",
      "execution_count": null,
      "outputs": []
    },
    {
      "cell_type": "code",
      "source": [
        "modified_resnet"
      ],
      "metadata": {
        "id": "NkG34mR5vgsS"
      },
      "id": "NkG34mR5vgsS",
      "execution_count": null,
      "outputs": []
    },
    {
      "cell_type": "code",
      "source": [
        "num_epochs = 10"
      ],
      "metadata": {
        "id": "bhJIXDz6czGQ"
      },
      "id": "bhJIXDz6czGQ",
      "execution_count": null,
      "outputs": []
    },
    {
      "cell_type": "code",
      "source": [
        "for param in resnet.parameters():\n",
        "    param.requires_grad = False"
      ],
      "metadata": {
        "id": "GzcWb0NDyRSN"
      },
      "id": "GzcWb0NDyRSN",
      "execution_count": null,
      "outputs": []
    },
    {
      "cell_type": "code",
      "source": [
        "# Define a function to trace tensor shapes through the model\n",
        "def trace_shapes(model, x):\n",
        "    for name, layer in resnet.named_children():\n",
        "        x = layer(x)\n",
        "        print(f\"Layer: {name}, Output shape: {x.shape}\")"
      ],
      "metadata": {
        "id": "BoCMFX4YyTnJ"
      },
      "id": "BoCMFX4YyTnJ",
      "execution_count": null,
      "outputs": []
    },
    {
      "cell_type": "code",
      "source": [
        "sample_input.shape"
      ],
      "metadata": {
        "colab": {
          "base_uri": "https://localhost:8080/"
        },
        "id": "VqE20JkxCGOi",
        "outputId": "3c88fb2f-b12d-4b4a-c287-11c85a9a16e8"
      },
      "id": "VqE20JkxCGOi",
      "execution_count": null,
      "outputs": [
        {
          "output_type": "execute_result",
          "data": {
            "text/plain": [
              "torch.Size([32, 3, 224, 224])"
            ]
          },
          "metadata": {},
          "execution_count": 260
        }
      ]
    },
    {
      "cell_type": "code",
      "source": [
        "trace_shapes(resnet, sample_input)"
      ],
      "metadata": {
        "colab": {
          "base_uri": "https://localhost:8080/",
          "height": 477
        },
        "id": "bUdwOoyMCRgG",
        "outputId": "2a5a77e5-8fd7-419e-bde7-d5e4859b869b"
      },
      "id": "bUdwOoyMCRgG",
      "execution_count": null,
      "outputs": [
        {
          "output_type": "stream",
          "name": "stdout",
          "text": [
            "Layer: conv1, Output shape: torch.Size([32, 64, 112, 112])\n",
            "Layer: bn1, Output shape: torch.Size([32, 64, 112, 112])\n",
            "Layer: relu, Output shape: torch.Size([32, 64, 112, 112])\n",
            "Layer: maxpool, Output shape: torch.Size([32, 64, 56, 56])\n",
            "Layer: layer1, Output shape: torch.Size([32, 64, 56, 56])\n",
            "Layer: layer2, Output shape: torch.Size([32, 128, 28, 28])\n",
            "Layer: layer3, Output shape: torch.Size([32, 256, 14, 14])\n",
            "Layer: layer4, Output shape: torch.Size([32, 512, 7, 7])\n",
            "Layer: avgpool, Output shape: torch.Size([32, 512, 1, 1])\n"
          ]
        },
        {
          "output_type": "error",
          "ename": "RuntimeError",
          "evalue": "ignored",
          "traceback": [
            "\u001b[0;31m---------------------------------------------------------------------------\u001b[0m",
            "\u001b[0;31mRuntimeError\u001b[0m                              Traceback (most recent call last)",
            "\u001b[0;32m<ipython-input-261-5c77d1de2f1a>\u001b[0m in \u001b[0;36m<cell line: 1>\u001b[0;34m()\u001b[0m\n\u001b[0;32m----> 1\u001b[0;31m \u001b[0mtrace_shapes\u001b[0m\u001b[0;34m(\u001b[0m\u001b[0mresnet\u001b[0m\u001b[0;34m,\u001b[0m \u001b[0msample_input\u001b[0m\u001b[0;34m)\u001b[0m\u001b[0;34m\u001b[0m\u001b[0;34m\u001b[0m\u001b[0m\n\u001b[0m",
            "\u001b[0;32m<ipython-input-259-2e526e9e46e1>\u001b[0m in \u001b[0;36mtrace_shapes\u001b[0;34m(model, x)\u001b[0m\n\u001b[1;32m      2\u001b[0m \u001b[0;32mdef\u001b[0m \u001b[0mtrace_shapes\u001b[0m\u001b[0;34m(\u001b[0m\u001b[0mmodel\u001b[0m\u001b[0;34m,\u001b[0m \u001b[0mx\u001b[0m\u001b[0;34m)\u001b[0m\u001b[0;34m:\u001b[0m\u001b[0;34m\u001b[0m\u001b[0;34m\u001b[0m\u001b[0m\n\u001b[1;32m      3\u001b[0m     \u001b[0;32mfor\u001b[0m \u001b[0mname\u001b[0m\u001b[0;34m,\u001b[0m \u001b[0mlayer\u001b[0m \u001b[0;32min\u001b[0m \u001b[0mresnet\u001b[0m\u001b[0;34m.\u001b[0m\u001b[0mnamed_children\u001b[0m\u001b[0;34m(\u001b[0m\u001b[0;34m)\u001b[0m\u001b[0;34m:\u001b[0m\u001b[0;34m\u001b[0m\u001b[0;34m\u001b[0m\u001b[0m\n\u001b[0;32m----> 4\u001b[0;31m         \u001b[0mx\u001b[0m \u001b[0;34m=\u001b[0m \u001b[0mlayer\u001b[0m\u001b[0;34m(\u001b[0m\u001b[0mx\u001b[0m\u001b[0;34m)\u001b[0m\u001b[0;34m\u001b[0m\u001b[0;34m\u001b[0m\u001b[0m\n\u001b[0m\u001b[1;32m      5\u001b[0m         \u001b[0mprint\u001b[0m\u001b[0;34m(\u001b[0m\u001b[0;34mf\"Layer: {name}, Output shape: {x.shape}\"\u001b[0m\u001b[0;34m)\u001b[0m\u001b[0;34m\u001b[0m\u001b[0;34m\u001b[0m\u001b[0m\n",
            "\u001b[0;32m/usr/local/lib/python3.10/dist-packages/torch/nn/modules/module.py\u001b[0m in \u001b[0;36m_wrapped_call_impl\u001b[0;34m(self, *args, **kwargs)\u001b[0m\n\u001b[1;32m   1516\u001b[0m             \u001b[0;32mreturn\u001b[0m \u001b[0mself\u001b[0m\u001b[0;34m.\u001b[0m\u001b[0m_compiled_call_impl\u001b[0m\u001b[0;34m(\u001b[0m\u001b[0;34m*\u001b[0m\u001b[0margs\u001b[0m\u001b[0;34m,\u001b[0m \u001b[0;34m**\u001b[0m\u001b[0mkwargs\u001b[0m\u001b[0;34m)\u001b[0m  \u001b[0;31m# type: ignore[misc]\u001b[0m\u001b[0;34m\u001b[0m\u001b[0;34m\u001b[0m\u001b[0m\n\u001b[1;32m   1517\u001b[0m         \u001b[0;32melse\u001b[0m\u001b[0;34m:\u001b[0m\u001b[0;34m\u001b[0m\u001b[0;34m\u001b[0m\u001b[0m\n\u001b[0;32m-> 1518\u001b[0;31m             \u001b[0;32mreturn\u001b[0m \u001b[0mself\u001b[0m\u001b[0;34m.\u001b[0m\u001b[0m_call_impl\u001b[0m\u001b[0;34m(\u001b[0m\u001b[0;34m*\u001b[0m\u001b[0margs\u001b[0m\u001b[0;34m,\u001b[0m \u001b[0;34m**\u001b[0m\u001b[0mkwargs\u001b[0m\u001b[0;34m)\u001b[0m\u001b[0;34m\u001b[0m\u001b[0;34m\u001b[0m\u001b[0m\n\u001b[0m\u001b[1;32m   1519\u001b[0m \u001b[0;34m\u001b[0m\u001b[0m\n\u001b[1;32m   1520\u001b[0m     \u001b[0;32mdef\u001b[0m \u001b[0m_call_impl\u001b[0m\u001b[0;34m(\u001b[0m\u001b[0mself\u001b[0m\u001b[0;34m,\u001b[0m \u001b[0;34m*\u001b[0m\u001b[0margs\u001b[0m\u001b[0;34m,\u001b[0m \u001b[0;34m**\u001b[0m\u001b[0mkwargs\u001b[0m\u001b[0;34m)\u001b[0m\u001b[0;34m:\u001b[0m\u001b[0;34m\u001b[0m\u001b[0;34m\u001b[0m\u001b[0m\n",
            "\u001b[0;32m/usr/local/lib/python3.10/dist-packages/torch/nn/modules/module.py\u001b[0m in \u001b[0;36m_call_impl\u001b[0;34m(self, *args, **kwargs)\u001b[0m\n\u001b[1;32m   1525\u001b[0m                 \u001b[0;32mor\u001b[0m \u001b[0m_global_backward_pre_hooks\u001b[0m \u001b[0;32mor\u001b[0m \u001b[0m_global_backward_hooks\u001b[0m\u001b[0;34m\u001b[0m\u001b[0;34m\u001b[0m\u001b[0m\n\u001b[1;32m   1526\u001b[0m                 or _global_forward_hooks or _global_forward_pre_hooks):\n\u001b[0;32m-> 1527\u001b[0;31m             \u001b[0;32mreturn\u001b[0m \u001b[0mforward_call\u001b[0m\u001b[0;34m(\u001b[0m\u001b[0;34m*\u001b[0m\u001b[0margs\u001b[0m\u001b[0;34m,\u001b[0m \u001b[0;34m**\u001b[0m\u001b[0mkwargs\u001b[0m\u001b[0;34m)\u001b[0m\u001b[0;34m\u001b[0m\u001b[0;34m\u001b[0m\u001b[0m\n\u001b[0m\u001b[1;32m   1528\u001b[0m \u001b[0;34m\u001b[0m\u001b[0m\n\u001b[1;32m   1529\u001b[0m         \u001b[0;32mtry\u001b[0m\u001b[0;34m:\u001b[0m\u001b[0;34m\u001b[0m\u001b[0;34m\u001b[0m\u001b[0m\n",
            "\u001b[0;32m/usr/local/lib/python3.10/dist-packages/torch/nn/modules/linear.py\u001b[0m in \u001b[0;36mforward\u001b[0;34m(self, input)\u001b[0m\n\u001b[1;32m    112\u001b[0m \u001b[0;34m\u001b[0m\u001b[0m\n\u001b[1;32m    113\u001b[0m     \u001b[0;32mdef\u001b[0m \u001b[0mforward\u001b[0m\u001b[0;34m(\u001b[0m\u001b[0mself\u001b[0m\u001b[0;34m,\u001b[0m \u001b[0minput\u001b[0m\u001b[0;34m:\u001b[0m \u001b[0mTensor\u001b[0m\u001b[0;34m)\u001b[0m \u001b[0;34m->\u001b[0m \u001b[0mTensor\u001b[0m\u001b[0;34m:\u001b[0m\u001b[0;34m\u001b[0m\u001b[0;34m\u001b[0m\u001b[0m\n\u001b[0;32m--> 114\u001b[0;31m         \u001b[0;32mreturn\u001b[0m \u001b[0mF\u001b[0m\u001b[0;34m.\u001b[0m\u001b[0mlinear\u001b[0m\u001b[0;34m(\u001b[0m\u001b[0minput\u001b[0m\u001b[0;34m,\u001b[0m \u001b[0mself\u001b[0m\u001b[0;34m.\u001b[0m\u001b[0mweight\u001b[0m\u001b[0;34m,\u001b[0m \u001b[0mself\u001b[0m\u001b[0;34m.\u001b[0m\u001b[0mbias\u001b[0m\u001b[0;34m)\u001b[0m\u001b[0;34m\u001b[0m\u001b[0;34m\u001b[0m\u001b[0m\n\u001b[0m\u001b[1;32m    115\u001b[0m \u001b[0;34m\u001b[0m\u001b[0m\n\u001b[1;32m    116\u001b[0m     \u001b[0;32mdef\u001b[0m \u001b[0mextra_repr\u001b[0m\u001b[0;34m(\u001b[0m\u001b[0mself\u001b[0m\u001b[0;34m)\u001b[0m \u001b[0;34m->\u001b[0m \u001b[0mstr\u001b[0m\u001b[0;34m:\u001b[0m\u001b[0;34m\u001b[0m\u001b[0;34m\u001b[0m\u001b[0m\n",
            "\u001b[0;31mRuntimeError\u001b[0m: mat1 and mat2 shapes cannot be multiplied (16384x1 and 512x1000)"
          ]
        }
      ]
    },
    {
      "cell_type": "code",
      "source": [
        "trace_shapes(resnet, sample)"
      ],
      "metadata": {
        "colab": {
          "base_uri": "https://localhost:8080/"
        },
        "id": "3Bmtp88cyV5_",
        "outputId": "07c3e3aa-0610-474a-b8a3-55c20858c8e0"
      },
      "id": "3Bmtp88cyV5_",
      "execution_count": null,
      "outputs": [
        {
          "output_type": "stream",
          "name": "stdout",
          "text": [
            "Layer: 0, Output shape: torch.Size([32, 64, 16, 16])\n",
            "Layer: 1, Output shape: torch.Size([32, 64, 16, 16])\n",
            "Layer: 2, Output shape: torch.Size([32, 64, 16, 16])\n",
            "Layer: 3, Output shape: torch.Size([32, 64, 8, 8])\n",
            "Layer: 4, Output shape: torch.Size([32, 256, 8, 8])\n",
            "Layer: 5, Output shape: torch.Size([32, 512, 4, 4])\n",
            "Layer: 6, Output shape: torch.Size([32, 1024, 2, 2])\n",
            "Layer: 7, Output shape: torch.Size([32, 2048, 1, 1])\n",
            "Layer: 8, Output shape: torch.Size([32, 2048, 1, 1])\n",
            "Layer: 9, Output shape: torch.Size([32, 2048, 1, 4])\n"
          ]
        }
      ]
    },
    {
      "cell_type": "code",
      "source": [
        "for epoch in range(num_epochs):\n",
        "    model.train()\n",
        "    running_loss = 0.0\n",
        "\n",
        "    for inputs, targets in train_loader:\n",
        "        optimizer.zero_grad()\n",
        "        inputs = inputs.view(-1,1 ,32, 32)\n",
        "        print(inputs.shape)\n",
        "        outputs = modified_resnet(inputs)\n",
        "        loss = criterion(outputs, targets.reshape(-1, 1, 1))\n",
        "        loss.backward()\n",
        "        optimizer.step()\n",
        "\n",
        "        running_loss += loss.item()\n",
        "\n",
        "    # Print average loss per epoch\n",
        "    print(f\"Epoch [{epoch + 1}/{num_epochs}] - Loss: {running_loss / len(train_loader)}\")"
      ],
      "metadata": {
        "id": "DWMHr67TczDz"
      },
      "id": "DWMHr67TczDz",
      "execution_count": null,
      "outputs": []
    },
    {
      "cell_type": "code",
      "source": [
        "inputs = inputs.view(-1, 1, 32, 32)"
      ],
      "metadata": {
        "id": "eiCzNPQJczA4"
      },
      "id": "eiCzNPQJczA4",
      "execution_count": null,
      "outputs": []
    },
    {
      "cell_type": "code",
      "source": [
        "outputs.shape"
      ],
      "metadata": {
        "colab": {
          "base_uri": "https://localhost:8080/"
        },
        "id": "TNHJZ2macy-T",
        "outputId": "90fe9d79-bd5f-4626-feef-16e256d04d70"
      },
      "id": "TNHJZ2macy-T",
      "execution_count": null,
      "outputs": [
        {
          "output_type": "execute_result",
          "data": {
            "text/plain": [
              "torch.Size([32, 2048, 1, 4])"
            ]
          },
          "metadata": {},
          "execution_count": 238
        }
      ]
    },
    {
      "cell_type": "code",
      "source": [
        "sample_input = torch.randn(32, 3, 224, 224)"
      ],
      "metadata": {
        "id": "sJ7aXca_cy5Y"
      },
      "id": "sJ7aXca_cy5Y",
      "execution_count": null,
      "outputs": []
    },
    {
      "cell_type": "code",
      "source": [
        "# Load a pre-trained ResNet-18 model\n",
        "resnet = models.resnet18(pretrained=True)"
      ],
      "metadata": {
        "colab": {
          "base_uri": "https://localhost:8080/"
        },
        "id": "vyqTB_klcyv7",
        "outputId": "c102f07d-4afe-4780-8e7c-8abb5d5cb32b"
      },
      "id": "vyqTB_klcyv7",
      "execution_count": null,
      "outputs": [
        {
          "output_type": "stream",
          "name": "stderr",
          "text": [
            "/usr/local/lib/python3.10/dist-packages/torchvision/models/_utils.py:208: UserWarning: The parameter 'pretrained' is deprecated since 0.13 and may be removed in the future, please use 'weights' instead.\n",
            "  warnings.warn(\n",
            "/usr/local/lib/python3.10/dist-packages/torchvision/models/_utils.py:223: UserWarning: Arguments other than a weight enum or `None` for 'weights' are deprecated since 0.13 and may be removed in the future. The current behavior is equivalent to passing `weights=ResNet18_Weights.IMAGENET1K_V1`. You can also use `weights=ResNet18_Weights.DEFAULT` to get the most up-to-date weights.\n",
            "  warnings.warn(msg)\n"
          ]
        }
      ]
    },
    {
      "cell_type": "code",
      "source": [
        "output = resnet(sample_input)"
      ],
      "metadata": {
        "id": "yUcQkILucxr4"
      },
      "id": "yUcQkILucxr4",
      "execution_count": null,
      "outputs": []
    },
    {
      "cell_type": "code",
      "source": [
        "output"
      ],
      "metadata": {
        "id": "_fREp6nz2nx-",
        "colab": {
          "base_uri": "https://localhost:8080/"
        },
        "outputId": "e26999c0-53ae-447f-b302-3056647c494a"
      },
      "id": "_fREp6nz2nx-",
      "execution_count": null,
      "outputs": [
        {
          "output_type": "execute_result",
          "data": {
            "text/plain": [
              "tensor([[-2.2982e+00, -2.4732e+00,  3.1293e-01,  ..., -2.5533e+00,\n",
              "          6.3689e-01,  5.1853e-01],\n",
              "        [-1.1307e+00, -1.4908e-01, -9.3917e-01,  ...,  6.7538e-04,\n",
              "          9.3072e-01,  1.8026e+00],\n",
              "        [ 1.1939e-01, -9.7078e-01, -9.6343e-01,  ..., -1.7808e+00,\n",
              "          2.2929e+00, -8.9892e-01],\n",
              "        ...,\n",
              "        [-7.8178e-01, -1.3978e+00,  2.6497e+00,  ..., -8.8405e-01,\n",
              "          3.1901e-01,  5.6778e-01],\n",
              "        [-8.1442e-01, -1.2338e+00, -1.4201e+00,  ..., -4.1938e-01,\n",
              "          8.6472e-01,  8.7383e-01],\n",
              "        [-1.1779e+00,  3.4430e-01, -2.0729e+00,  ...,  1.4587e+00,\n",
              "          1.1187e+00,  2.0780e+00]], grad_fn=<AddmmBackward0>)"
            ]
          },
          "metadata": {},
          "execution_count": 264
        }
      ]
    },
    {
      "cell_type": "code",
      "source": [
        "sample_input"
      ],
      "metadata": {
        "id": "5JrkqwEL9Wo4"
      },
      "id": "5JrkqwEL9Wo4",
      "execution_count": null,
      "outputs": []
    },
    {
      "cell_type": "code",
      "source": [],
      "metadata": {
        "id": "fykmWQZBF4EK"
      },
      "id": "fykmWQZBF4EK",
      "execution_count": null,
      "outputs": []
    }
  ],
  "metadata": {
    "kaggle": {
      "accelerator": "none",
      "dataSources": [],
      "dockerImageVersionId": 30626,
      "isGpuEnabled": false,
      "isInternetEnabled": true,
      "language": "python",
      "sourceType": "notebook"
    },
    "kernelspec": {
      "display_name": "Python 3",
      "language": "python",
      "name": "python3"
    },
    "language_info": {
      "codemirror_mode": {
        "name": "ipython",
        "version": 3
      },
      "file_extension": ".py",
      "mimetype": "text/x-python",
      "name": "python",
      "nbconvert_exporter": "python",
      "pygments_lexer": "ipython3",
      "version": "3.10.12"
    },
    "papermill": {
      "default_parameters": {},
      "duration": 17.922403,
      "end_time": "2023-12-29T15:34:15.022181",
      "environment_variables": {},
      "exception": null,
      "input_path": "__notebook__.ipynb",
      "output_path": "__notebook__.ipynb",
      "parameters": {},
      "start_time": "2023-12-29T15:33:57.099778",
      "version": "2.4.0"
    },
    "colab": {
      "provenance": [],
      "include_colab_link": true
    }
  },
  "nbformat": 4,
  "nbformat_minor": 5
}